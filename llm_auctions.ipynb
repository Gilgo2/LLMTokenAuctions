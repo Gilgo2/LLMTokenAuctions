{
 "cells": [
  {
   "cell_type": "code",
   "execution_count": 1,
   "metadata": {
    "collapsed": true
   },
   "outputs": [
    {
     "data": {
      "text/plain": [
       "'3.11.4 (tags/v3.11.4:d2340ef, Jun  7 2023, 05:45:37) [MSC v.1934 64 bit (AMD64)]'"
      ]
     },
     "execution_count": 1,
     "metadata": {},
     "output_type": "execute_result"
    }
   ],
   "source": [
    "import sys\n",
    "sys.version"
   ]
  },
  {
   "cell_type": "code",
   "execution_count": 2,
   "metadata": {
    "collapsed": false
   },
   "outputs": [],
   "source": [
    "import torch\n",
    "from transformers import AutoModelForCausalLM, AutoTokenizer, pipeline"
   ]
  },
  {
   "cell_type": "code",
   "execution_count": 3,
   "metadata": {
    "collapsed": false
   },
   "outputs": [
    {
     "name": "stderr",
     "output_type": "stream",
     "text": [
      "c:\\Users\\mayha\\OneDrive\\Desktop\\year 4\\algs and incentives\\LLMTokenAuctions\\.venv\\Lib\\site-packages\\huggingface_hub\\file_download.py:1142: FutureWarning: `resume_download` is deprecated and will be removed in version 1.0.0. Downloads always resume when possible. If you want to force a new download, use `force_download=True`.\n",
      "  warnings.warn(\n"
     ]
    }
   ],
   "source": [
    "model = AutoModelForCausalLM.from_pretrained(\n",
    "    \"Qwen/Qwen2-1.5B-Instruct\",\n",
    "    torch_dtype=\"auto\",\n",
    "    device_map=\"auto\"\n",
    ")"
   ]
  },
  {
   "cell_type": "code",
   "execution_count": 4,
   "metadata": {
    "collapsed": false
   },
   "outputs": [
    {
     "name": "stderr",
     "output_type": "stream",
     "text": [
      "Special tokens have been added in the vocabulary, make sure the associated word embeddings are fine-tuned or trained.\n"
     ]
    }
   ],
   "source": [
    "tokenizer = AutoTokenizer.from_pretrained(\"Qwen/Qwen2-1.5B-Instruct\")"
   ]
  },
  {
   "cell_type": "code",
   "execution_count": 5,
   "metadata": {
    "collapsed": false
   },
   "outputs": [],
   "source": [
    "def apply_chat_template(messages, tokens):\n",
    "    return f'<|im_start|>system\\n{messages[0][\"content\"]}.<|im_end|>\\n<|im_start|>user\\n{messages[1][\"content\"]}<|im_end|>\\n<|im_start|>assistant\\n{\"\".join(tokens)}'\n",
    "\n",
    "def get_next_word_probs(messages, tokens):\n",
    "    text = apply_chat_template(messages, tokens)\n",
    "    model_inputs = tokenizer([text], return_tensors=\"pt\")\n",
    "\n",
    "    outputs = model(model_inputs.input_ids)\n",
    "    logits = outputs.logits\n",
    "\n",
    "    next_token_logits = logits[:, -1, :]  # Get the logits for the last token\n",
    "    next_token_probs = torch.nn.functional.softmax(next_token_logits, dim=-1)\n",
    "\n",
    "    # Get the top 10 most probable tokens\n",
    "    top_k = 1000\n",
    "    top_probs, top_indices = torch.topk(next_token_probs, top_k, dim=-1)\n",
    "    return top_probs, top_indices\n"
   ]
  },
  {
   "cell_type": "code",
   "execution_count": 6,
   "metadata": {
    "collapsed": false
   },
   "outputs": [],
   "source": [
    " import numpy as np\n",
    " def q_integral(p, b,t,i,value):\n",
    "    P = (p.T @ b)[t] - p[i][t] * b[i]\n",
    "    S = b.sum() - b[i]\n",
    "    return p[i][t] * value + (P - p[i][t] * S) * torch.log(torch.abs(value + S))\n",
    "\n",
    "def token_payment(p, b, t, i, q):\n",
    "    return 1/2 * ((q[t] - p[i][t]) * b[i] - (q_integral(p, b, t, i, b[i]) - q_integral(p, b,t, i, 0) - p[i][t] *b[i]))\n",
    "\n",
    "def update_payments(payments, p, b, q):\n",
    "    \"\"\"\n",
    "    Iterate every bidder and token to get its payments from the integral\n",
    "    :param payments: Current payment vector to update\n",
    "    :param p: Current bidder's distributions over token\n",
    "    :param b: Bidders' bid\n",
    "    :param q: Distribution aggregation\n",
    "    :return: Updated payments vector\n",
    "    \"\"\"\n",
    "    for i in range(b.shape[0]):\n",
    "        for t in range(p.shape[0]):\n",
    "            payment = token_payment(p, b, t, i, q).item()\n",
    "            payments[i] += max(payment, 0)\n",
    "    return payments\n"
   ]
  },
  {
   "cell_type": "code",
   "execution_count": 8,
   "metadata": {
    "collapsed": false
   },
   "outputs": [],
   "source": [
    "def qkl(b, combined_probs):\n",
    "    result = combined_probs.T @ b  / b.sum()\n",
    "    return result\n",
    "\n",
    "def get_missing_tokens(tensor_a, tensor_b):\n",
    "    indices_a_not_in_b_mask = ~torch.isin(tensor_a, tensor_b)\n",
    "    indices_a_not_in_b = tensor_a[indices_a_not_in_b_mask].reshape(1, -1)\n",
    "    return indices_a_not_in_b\n",
    "\n",
    "def add_zero_probs_for_new_tokens(indices, probs, new_tokens):\n",
    "\n",
    "    indices = torch.cat([indices, new_tokens], dim=1)\n",
    "    zero_probs = torch.zeros_like(new_tokens)\n",
    "    probs = torch.cat([probs, zero_probs], dim=1)\n",
    "    return indices, probs\n",
    "\n",
    "def sort_tokens(indices, probs):\n",
    "    sorted_indices, sorted_order = torch.sort(indices)\n",
    "    sorted_probs = probs[0, sorted_order]\n",
    "    return sorted_indices, sorted_probs\n",
    "\n",
    "def sort_and_combine_dists(top_probs_alpha, top_indices_alpha, top_probs_beta, top_indices_beta):\n",
    "    beta_missing_tokens = get_missing_tokens(top_indices_alpha, top_indices_beta)\n",
    "    alpha_missing_tokens = get_missing_tokens(top_indices_beta, top_indices_alpha)\n",
    "\n",
    "    full_alpha_indices, full_alpha_probs = add_zero_probs_for_new_tokens(top_indices_alpha, top_probs_alpha, alpha_missing_tokens)\n",
    "    full_beta_indices, full_beta_probs = add_zero_probs_for_new_tokens(top_indices_beta, top_probs_beta, beta_missing_tokens)\n",
    "\n",
    "    sorted_alpha_indices, sorted_alpha_probs = sort_tokens(full_alpha_indices, full_alpha_probs)\n",
    "    sorted_beta_indices, sorted_beta_probs = sort_tokens(full_beta_indices, full_beta_probs)\n",
    "\n",
    "    combined_indices = torch.cat([sorted_alpha_indices, sorted_beta_indices])\n",
    "    combined_probs = torch.cat([sorted_alpha_probs, sorted_beta_probs])\n",
    "    return combined_indices, combined_probs\n",
    "\n",
    "\n",
    "def get_next_token(b, top_probs_alpha, top_indices_alpha, top_probs_beta, top_indices_beta, payments, temperature=0.025):\n",
    "    \"\"\"\n",
    "    This function receives distributions from both bidders, aggregates them into one distribution (q), calculates the costs\n",
    "    and samples the next token\n",
    "    :param b: Bidders' bid\n",
    "    :param top_probs_alpha: Distribution of Bidder alpha over tokens\n",
    "    :param top_indices_alpha: Mapping of indices to actual tokens for bidder alpha\n",
    "    :param top_probs_beta: Distribution of Bidder beta over tokens\n",
    "    :param top_indices_beta: Mapping of indices to actual tokens for bidder beta\n",
    "    :param payments: Vector of payments\n",
    "    :param temperature: Temperature parameter to control token sampling\n",
    "    :return: The next sampled token and induced payments.\n",
    "    \"\"\"\n",
    "    # combined_probs is p: A tensor for each bidder with dist over tokens\n",
    "    # combined_indices is the actual token\n",
    "    combined_indices, combined_probs = sort_and_combine_dists(top_probs_alpha, top_indices_alpha, top_probs_beta, top_indices_beta)\n",
    "    token_logits = qkl(combined_probs, b)\n",
    "    payments = update_payments(payments, combined_probs, b, token_logits)\n",
    "    token_temperature_logits = token_logits / temperature\n",
    "    token_dist = torch.softmax(token_temperature_logits, dim=0)\n",
    "    token = tokenizer.decode(combined_indices[0,torch.multinomial(token_dist, 1)].item())\n",
    "    return token, payments\n"
   ]
  },
  {
   "cell_type": "code",
   "execution_count": 13,
   "metadata": {},
   "outputs": [],
   "source": [
    "def get_token_probs_from_distributions(chosen_token, top_probs_alpha, top_indices_alpha, top_probs_beta, top_indices_beta):\n",
    "    \"\"\"\n",
    "    This function extracts the probability of a chosen token from the given distributions of both bidders.\n",
    "    If the token is found in either distribution, return the probability; otherwise, return 0.\n",
    "    :param chosen_token: The token for which we want to extract the probability.\n",
    "    :param top_probs_alpha: Distribution of Bidder alpha over tokens.\n",
    "    :param top_indices_alpha: Mapping of indices to actual tokens for Bidder alpha.\n",
    "    :param top_probs_beta: Distribution of Bidder beta over tokens.\n",
    "    :param top_indices_beta: Mapping of indices to actual tokens for Bidder beta.\n",
    "    :return: The probability of the chosen token from both bidders.\n",
    "    \"\"\"\n",
    "    # Token probability starts at 0\n",
    "    token_prob_alpha = 0.0\n",
    "    token_prob_beta = 0.0\n",
    "\n",
    "    # Convert the chosen token to its token ID using the tokenizer\n",
    "    chosen_token_id = tokenizer.encode(chosen_token, add_special_tokens=False)[0]\n",
    "\n",
    "    # Check if the token exists in top_indices_alpha\n",
    "    if chosen_token_id in top_indices_alpha:\n",
    "        # Get the index of the chosen token in top_indices_alpha\n",
    "        index_alpha = (top_indices_alpha == chosen_token_id).nonzero(as_tuple=True)[1]\n",
    "        # Add the corresponding probability from top_probs_alpha\n",
    "        token_prob_alpha += top_probs_alpha[0, index_alpha].item()\n",
    "\n",
    "    # Check if the token exists in top_indices_beta\n",
    "    if chosen_token_id in top_indices_beta:\n",
    "        # Get the index of the chosen token in top_indices_beta\n",
    "        index_beta = (top_indices_beta == chosen_token_id).nonzero(as_tuple=True)[1]\n",
    "        # Add the corresponding probability from top_probs_beta\n",
    "        token_prob_beta += top_probs_beta[0, index_beta].item()\n",
    "\n",
    "    return token_prob_alpha, token_prob_beta\n"
   ]
  },
  {
   "cell_type": "code",
   "execution_count": 9,
   "metadata": {
    "collapsed": false
   },
   "outputs": [],
   "source": [
    "\n",
    "messages_alpha = [\n",
    "    {\"role\": \"user\", \"content\": \"You are an expert of writing texts that naturally combines two ads together. Your choice of words and sentences is full of artistic flair\"}, {\"role\":\"user\", \"content\":\"Write a one-sentence ad for a flight to Hawaii using Alpha Airlines\"}\n",
    "]\n",
    "messages_beta = [\n",
    "    {\"role\": \"user\", \"content\": \"You are an expert of writing texts that naturally combines two ads together. Your choice of words and sentences is full of artistic flair\"}, {\"role\":\"user\", \"content\":\"Write a one-sentence ad for a vacation in Hawaii at the Beta Resort\"}\n",
    "]"
   ]
  },
  {
   "cell_type": "code",
   "execution_count": 21,
   "metadata": {
    "collapsed": false
   },
   "outputs": [],
   "source": [
    "import time\n",
    "def generate_text(alpha_airlines_bid, beta_resort_bid, token_count=20, verbose = True):\n",
    "    start_time = time.time()\n",
    "    b = torch.tensor([alpha_airlines_bid, beta_resort_bid])\n",
    "    payments = np.zeros_like(b)\n",
    "    tokens = []\n",
    "    chosen_tokens_probs_result_alpha = []\n",
    "    chosen_tokens_probs_result_beta = []\n",
    "    for _ in range(token_count):\n",
    "        top_probs_alpha, top_indices_alpha  = get_next_word_probs(messages_alpha, tokens)\n",
    "        top_probs_beta, top_indices_beta = get_next_word_probs(messages_beta, tokens)\n",
    "        next_token, payments = get_next_token(b, top_probs_alpha, top_indices_alpha, top_probs_beta, top_indices_beta, payments)\n",
    "        if next_token == \"<|im_end|>\":\n",
    "            break\n",
    "        if verbose:\n",
    "            print(next_token, end='')\n",
    "        tokens.append(next_token)\n",
    "        chosen_token_probs_alpha, chosen_token_probs_beta= get_token_probs_from_distributions(next_token,top_probs_alpha=top_probs_alpha,top_indices_alpha=top_indices_alpha, top_probs_beta= top_probs_beta, top_indices_beta=top_indices_beta) \n",
    "        chosen_tokens_probs_result_alpha.append(chosen_token_probs_alpha)\n",
    "        chosen_tokens_probs_result_beta.append(chosen_token_probs_beta)\n",
    "    if verbose:\n",
    "        print(\"\\n\", (time.time() - start_time) / 60, \"minutes\")\n",
    "\n",
    "    return \"\".join(tokens), payments, chosen_tokens_probs_result_alpha, chosen_tokens_probs_result_beta"
   ]
  },
  {
   "cell_type": "code",
   "execution_count": 11,
   "metadata": {
    "collapsed": false
   },
   "outputs": [
    {
     "name": "stderr",
     "output_type": "stream",
     "text": [
      "C:\\Users\\mayha\\AppData\\Local\\Temp\\ipykernel_16480\\2052315581.py:2: UserWarning: The use of `x.T` on tensors of dimension other than 2 to reverse their shape is deprecated and it will throw an error in a future release. Consider `x.mT` to transpose batches of matrices or `x.permute(*torch.arange(x.ndim - 1, -1, -1))` to reverse the dimensions of a tensor. (Triggered internally at ..\\aten\\src\\ATen\\native\\TensorShape.cpp:3641.)\n",
      "  result = combined_probs.T @ b  / b.sum()\n"
     ]
    },
    {
     "name": "stdout",
     "output_type": "stream",
     "text": [
      "\"Escape to paradise with Alpha Airlines, where every flight to Hawaii is a journey"
     ]
    },
    {
     "ename": "KeyboardInterrupt",
     "evalue": "",
     "output_type": "error",
     "traceback": [
      "\u001b[1;31m---------------------------------------------------------------------------\u001b[0m",
      "\u001b[1;31mKeyboardInterrupt\u001b[0m                         Traceback (most recent call last)",
      "Cell \u001b[1;32mIn[11], line 1\u001b[0m\n\u001b[1;32m----> 1\u001b[0m outcome, ad_payments \u001b[38;5;241m=\u001b[39m \u001b[43mgenerate_text\u001b[49m\u001b[43m(\u001b[49m\u001b[43malpha_airlines_bid\u001b[49m\u001b[38;5;241;43m=\u001b[39;49m\u001b[38;5;241;43m3.0\u001b[39;49m\u001b[43m,\u001b[49m\u001b[43m \u001b[49m\u001b[43mbeta_resort_bid\u001b[49m\u001b[38;5;241;43m=\u001b[39;49m\u001b[38;5;241;43m2.0\u001b[39;49m\u001b[43m,\u001b[49m\u001b[43m \u001b[49m\u001b[43mverbose\u001b[49m\u001b[38;5;241;43m=\u001b[39;49m\u001b[38;5;28;43;01mTrue\u001b[39;49;00m\u001b[43m)\u001b[49m\n",
      "Cell \u001b[1;32mIn[10], line 8\u001b[0m, in \u001b[0;36mgenerate_text\u001b[1;34m(alpha_airlines_bid, beta_resort_bid, token_count, verbose)\u001b[0m\n\u001b[0;32m      6\u001b[0m tokens \u001b[38;5;241m=\u001b[39m []\n\u001b[0;32m      7\u001b[0m \u001b[38;5;28;01mfor\u001b[39;00m _ \u001b[38;5;129;01min\u001b[39;00m \u001b[38;5;28mrange\u001b[39m(token_count):\n\u001b[1;32m----> 8\u001b[0m     top_probs_alpha, top_indices_alpha  \u001b[38;5;241m=\u001b[39m \u001b[43mget_next_word_probs\u001b[49m\u001b[43m(\u001b[49m\u001b[43mmessages_alpha\u001b[49m\u001b[43m,\u001b[49m\u001b[43m \u001b[49m\u001b[43mtokens\u001b[49m\u001b[43m)\u001b[49m\n\u001b[0;32m      9\u001b[0m     top_probs_beta, top_indices_beta \u001b[38;5;241m=\u001b[39m get_next_word_probs(messages_beta, tokens)\n\u001b[0;32m     10\u001b[0m     next_token, payments \u001b[38;5;241m=\u001b[39m get_next_token(b, top_probs_alpha, top_indices_alpha, top_probs_beta, top_indices_beta, payments)\n",
      "Cell \u001b[1;32mIn[5], line 8\u001b[0m, in \u001b[0;36mget_next_word_probs\u001b[1;34m(messages, tokens)\u001b[0m\n\u001b[0;32m      5\u001b[0m text \u001b[38;5;241m=\u001b[39m apply_chat_template(messages, tokens)\n\u001b[0;32m      6\u001b[0m model_inputs \u001b[38;5;241m=\u001b[39m tokenizer([text], return_tensors\u001b[38;5;241m=\u001b[39m\u001b[38;5;124m\"\u001b[39m\u001b[38;5;124mpt\u001b[39m\u001b[38;5;124m\"\u001b[39m)\n\u001b[1;32m----> 8\u001b[0m outputs \u001b[38;5;241m=\u001b[39m \u001b[43mmodel\u001b[49m\u001b[43m(\u001b[49m\u001b[43mmodel_inputs\u001b[49m\u001b[38;5;241;43m.\u001b[39;49m\u001b[43minput_ids\u001b[49m\u001b[43m)\u001b[49m\n\u001b[0;32m      9\u001b[0m logits \u001b[38;5;241m=\u001b[39m outputs\u001b[38;5;241m.\u001b[39mlogits\n\u001b[0;32m     11\u001b[0m next_token_logits \u001b[38;5;241m=\u001b[39m logits[:, \u001b[38;5;241m-\u001b[39m\u001b[38;5;241m1\u001b[39m, :]  \u001b[38;5;66;03m# Get the logits for the last token\u001b[39;00m\n",
      "File \u001b[1;32mc:\\Users\\mayha\\OneDrive\\Desktop\\year 4\\algs and incentives\\LLMTokenAuctions\\.venv\\Lib\\site-packages\\torch\\nn\\modules\\module.py:1511\u001b[0m, in \u001b[0;36mModule._wrapped_call_impl\u001b[1;34m(self, *args, **kwargs)\u001b[0m\n\u001b[0;32m   1509\u001b[0m     \u001b[38;5;28;01mreturn\u001b[39;00m \u001b[38;5;28mself\u001b[39m\u001b[38;5;241m.\u001b[39m_compiled_call_impl(\u001b[38;5;241m*\u001b[39margs, \u001b[38;5;241m*\u001b[39m\u001b[38;5;241m*\u001b[39mkwargs)  \u001b[38;5;66;03m# type: ignore[misc]\u001b[39;00m\n\u001b[0;32m   1510\u001b[0m \u001b[38;5;28;01melse\u001b[39;00m:\n\u001b[1;32m-> 1511\u001b[0m     \u001b[38;5;28;01mreturn\u001b[39;00m \u001b[38;5;28;43mself\u001b[39;49m\u001b[38;5;241;43m.\u001b[39;49m\u001b[43m_call_impl\u001b[49m\u001b[43m(\u001b[49m\u001b[38;5;241;43m*\u001b[39;49m\u001b[43margs\u001b[49m\u001b[43m,\u001b[49m\u001b[43m \u001b[49m\u001b[38;5;241;43m*\u001b[39;49m\u001b[38;5;241;43m*\u001b[39;49m\u001b[43mkwargs\u001b[49m\u001b[43m)\u001b[49m\n",
      "File \u001b[1;32mc:\\Users\\mayha\\OneDrive\\Desktop\\year 4\\algs and incentives\\LLMTokenAuctions\\.venv\\Lib\\site-packages\\torch\\nn\\modules\\module.py:1520\u001b[0m, in \u001b[0;36mModule._call_impl\u001b[1;34m(self, *args, **kwargs)\u001b[0m\n\u001b[0;32m   1515\u001b[0m \u001b[38;5;66;03m# If we don't have any hooks, we want to skip the rest of the logic in\u001b[39;00m\n\u001b[0;32m   1516\u001b[0m \u001b[38;5;66;03m# this function, and just call forward.\u001b[39;00m\n\u001b[0;32m   1517\u001b[0m \u001b[38;5;28;01mif\u001b[39;00m \u001b[38;5;129;01mnot\u001b[39;00m (\u001b[38;5;28mself\u001b[39m\u001b[38;5;241m.\u001b[39m_backward_hooks \u001b[38;5;129;01mor\u001b[39;00m \u001b[38;5;28mself\u001b[39m\u001b[38;5;241m.\u001b[39m_backward_pre_hooks \u001b[38;5;129;01mor\u001b[39;00m \u001b[38;5;28mself\u001b[39m\u001b[38;5;241m.\u001b[39m_forward_hooks \u001b[38;5;129;01mor\u001b[39;00m \u001b[38;5;28mself\u001b[39m\u001b[38;5;241m.\u001b[39m_forward_pre_hooks\n\u001b[0;32m   1518\u001b[0m         \u001b[38;5;129;01mor\u001b[39;00m _global_backward_pre_hooks \u001b[38;5;129;01mor\u001b[39;00m _global_backward_hooks\n\u001b[0;32m   1519\u001b[0m         \u001b[38;5;129;01mor\u001b[39;00m _global_forward_hooks \u001b[38;5;129;01mor\u001b[39;00m _global_forward_pre_hooks):\n\u001b[1;32m-> 1520\u001b[0m     \u001b[38;5;28;01mreturn\u001b[39;00m \u001b[43mforward_call\u001b[49m\u001b[43m(\u001b[49m\u001b[38;5;241;43m*\u001b[39;49m\u001b[43margs\u001b[49m\u001b[43m,\u001b[49m\u001b[43m \u001b[49m\u001b[38;5;241;43m*\u001b[39;49m\u001b[38;5;241;43m*\u001b[39;49m\u001b[43mkwargs\u001b[49m\u001b[43m)\u001b[49m\n\u001b[0;32m   1522\u001b[0m \u001b[38;5;28;01mtry\u001b[39;00m:\n\u001b[0;32m   1523\u001b[0m     result \u001b[38;5;241m=\u001b[39m \u001b[38;5;28;01mNone\u001b[39;00m\n",
      "File \u001b[1;32mc:\\Users\\mayha\\OneDrive\\Desktop\\year 4\\algs and incentives\\LLMTokenAuctions\\.venv\\Lib\\site-packages\\transformers\\models\\qwen2\\modeling_qwen2.py:1173\u001b[0m, in \u001b[0;36mQwen2ForCausalLM.forward\u001b[1;34m(self, input_ids, attention_mask, position_ids, past_key_values, inputs_embeds, labels, use_cache, output_attentions, output_hidden_states, return_dict)\u001b[0m\n\u001b[0;32m   1170\u001b[0m return_dict \u001b[38;5;241m=\u001b[39m return_dict \u001b[38;5;28;01mif\u001b[39;00m return_dict \u001b[38;5;129;01mis\u001b[39;00m \u001b[38;5;129;01mnot\u001b[39;00m \u001b[38;5;28;01mNone\u001b[39;00m \u001b[38;5;28;01melse\u001b[39;00m \u001b[38;5;28mself\u001b[39m\u001b[38;5;241m.\u001b[39mconfig\u001b[38;5;241m.\u001b[39muse_return_dict\n\u001b[0;32m   1172\u001b[0m \u001b[38;5;66;03m# decoder outputs consists of (dec_features, layer_state, dec_hidden, dec_attn)\u001b[39;00m\n\u001b[1;32m-> 1173\u001b[0m outputs \u001b[38;5;241m=\u001b[39m \u001b[38;5;28;43mself\u001b[39;49m\u001b[38;5;241;43m.\u001b[39;49m\u001b[43mmodel\u001b[49m\u001b[43m(\u001b[49m\n\u001b[0;32m   1174\u001b[0m \u001b[43m    \u001b[49m\u001b[43minput_ids\u001b[49m\u001b[38;5;241;43m=\u001b[39;49m\u001b[43minput_ids\u001b[49m\u001b[43m,\u001b[49m\n\u001b[0;32m   1175\u001b[0m \u001b[43m    \u001b[49m\u001b[43mattention_mask\u001b[49m\u001b[38;5;241;43m=\u001b[39;49m\u001b[43mattention_mask\u001b[49m\u001b[43m,\u001b[49m\n\u001b[0;32m   1176\u001b[0m \u001b[43m    \u001b[49m\u001b[43mposition_ids\u001b[49m\u001b[38;5;241;43m=\u001b[39;49m\u001b[43mposition_ids\u001b[49m\u001b[43m,\u001b[49m\n\u001b[0;32m   1177\u001b[0m \u001b[43m    \u001b[49m\u001b[43mpast_key_values\u001b[49m\u001b[38;5;241;43m=\u001b[39;49m\u001b[43mpast_key_values\u001b[49m\u001b[43m,\u001b[49m\n\u001b[0;32m   1178\u001b[0m \u001b[43m    \u001b[49m\u001b[43minputs_embeds\u001b[49m\u001b[38;5;241;43m=\u001b[39;49m\u001b[43minputs_embeds\u001b[49m\u001b[43m,\u001b[49m\n\u001b[0;32m   1179\u001b[0m \u001b[43m    \u001b[49m\u001b[43muse_cache\u001b[49m\u001b[38;5;241;43m=\u001b[39;49m\u001b[43muse_cache\u001b[49m\u001b[43m,\u001b[49m\n\u001b[0;32m   1180\u001b[0m \u001b[43m    \u001b[49m\u001b[43moutput_attentions\u001b[49m\u001b[38;5;241;43m=\u001b[39;49m\u001b[43moutput_attentions\u001b[49m\u001b[43m,\u001b[49m\n\u001b[0;32m   1181\u001b[0m \u001b[43m    \u001b[49m\u001b[43moutput_hidden_states\u001b[49m\u001b[38;5;241;43m=\u001b[39;49m\u001b[43moutput_hidden_states\u001b[49m\u001b[43m,\u001b[49m\n\u001b[0;32m   1182\u001b[0m \u001b[43m    \u001b[49m\u001b[43mreturn_dict\u001b[49m\u001b[38;5;241;43m=\u001b[39;49m\u001b[43mreturn_dict\u001b[49m\u001b[43m,\u001b[49m\n\u001b[0;32m   1183\u001b[0m \u001b[43m\u001b[49m\u001b[43m)\u001b[49m\n\u001b[0;32m   1185\u001b[0m hidden_states \u001b[38;5;241m=\u001b[39m outputs[\u001b[38;5;241m0\u001b[39m]\n\u001b[0;32m   1186\u001b[0m logits \u001b[38;5;241m=\u001b[39m \u001b[38;5;28mself\u001b[39m\u001b[38;5;241m.\u001b[39mlm_head(hidden_states)\n",
      "File \u001b[1;32mc:\\Users\\mayha\\OneDrive\\Desktop\\year 4\\algs and incentives\\LLMTokenAuctions\\.venv\\Lib\\site-packages\\torch\\nn\\modules\\module.py:1511\u001b[0m, in \u001b[0;36mModule._wrapped_call_impl\u001b[1;34m(self, *args, **kwargs)\u001b[0m\n\u001b[0;32m   1509\u001b[0m     \u001b[38;5;28;01mreturn\u001b[39;00m \u001b[38;5;28mself\u001b[39m\u001b[38;5;241m.\u001b[39m_compiled_call_impl(\u001b[38;5;241m*\u001b[39margs, \u001b[38;5;241m*\u001b[39m\u001b[38;5;241m*\u001b[39mkwargs)  \u001b[38;5;66;03m# type: ignore[misc]\u001b[39;00m\n\u001b[0;32m   1510\u001b[0m \u001b[38;5;28;01melse\u001b[39;00m:\n\u001b[1;32m-> 1511\u001b[0m     \u001b[38;5;28;01mreturn\u001b[39;00m \u001b[38;5;28;43mself\u001b[39;49m\u001b[38;5;241;43m.\u001b[39;49m\u001b[43m_call_impl\u001b[49m\u001b[43m(\u001b[49m\u001b[38;5;241;43m*\u001b[39;49m\u001b[43margs\u001b[49m\u001b[43m,\u001b[49m\u001b[43m \u001b[49m\u001b[38;5;241;43m*\u001b[39;49m\u001b[38;5;241;43m*\u001b[39;49m\u001b[43mkwargs\u001b[49m\u001b[43m)\u001b[49m\n",
      "File \u001b[1;32mc:\\Users\\mayha\\OneDrive\\Desktop\\year 4\\algs and incentives\\LLMTokenAuctions\\.venv\\Lib\\site-packages\\torch\\nn\\modules\\module.py:1520\u001b[0m, in \u001b[0;36mModule._call_impl\u001b[1;34m(self, *args, **kwargs)\u001b[0m\n\u001b[0;32m   1515\u001b[0m \u001b[38;5;66;03m# If we don't have any hooks, we want to skip the rest of the logic in\u001b[39;00m\n\u001b[0;32m   1516\u001b[0m \u001b[38;5;66;03m# this function, and just call forward.\u001b[39;00m\n\u001b[0;32m   1517\u001b[0m \u001b[38;5;28;01mif\u001b[39;00m \u001b[38;5;129;01mnot\u001b[39;00m (\u001b[38;5;28mself\u001b[39m\u001b[38;5;241m.\u001b[39m_backward_hooks \u001b[38;5;129;01mor\u001b[39;00m \u001b[38;5;28mself\u001b[39m\u001b[38;5;241m.\u001b[39m_backward_pre_hooks \u001b[38;5;129;01mor\u001b[39;00m \u001b[38;5;28mself\u001b[39m\u001b[38;5;241m.\u001b[39m_forward_hooks \u001b[38;5;129;01mor\u001b[39;00m \u001b[38;5;28mself\u001b[39m\u001b[38;5;241m.\u001b[39m_forward_pre_hooks\n\u001b[0;32m   1518\u001b[0m         \u001b[38;5;129;01mor\u001b[39;00m _global_backward_pre_hooks \u001b[38;5;129;01mor\u001b[39;00m _global_backward_hooks\n\u001b[0;32m   1519\u001b[0m         \u001b[38;5;129;01mor\u001b[39;00m _global_forward_hooks \u001b[38;5;129;01mor\u001b[39;00m _global_forward_pre_hooks):\n\u001b[1;32m-> 1520\u001b[0m     \u001b[38;5;28;01mreturn\u001b[39;00m \u001b[43mforward_call\u001b[49m\u001b[43m(\u001b[49m\u001b[38;5;241;43m*\u001b[39;49m\u001b[43margs\u001b[49m\u001b[43m,\u001b[49m\u001b[43m \u001b[49m\u001b[38;5;241;43m*\u001b[39;49m\u001b[38;5;241;43m*\u001b[39;49m\u001b[43mkwargs\u001b[49m\u001b[43m)\u001b[49m\n\u001b[0;32m   1522\u001b[0m \u001b[38;5;28;01mtry\u001b[39;00m:\n\u001b[0;32m   1523\u001b[0m     result \u001b[38;5;241m=\u001b[39m \u001b[38;5;28;01mNone\u001b[39;00m\n",
      "File \u001b[1;32mc:\\Users\\mayha\\OneDrive\\Desktop\\year 4\\algs and incentives\\LLMTokenAuctions\\.venv\\Lib\\site-packages\\transformers\\models\\qwen2\\modeling_qwen2.py:1058\u001b[0m, in \u001b[0;36mQwen2Model.forward\u001b[1;34m(self, input_ids, attention_mask, position_ids, past_key_values, inputs_embeds, use_cache, output_attentions, output_hidden_states, return_dict)\u001b[0m\n\u001b[0;32m   1048\u001b[0m     layer_outputs \u001b[38;5;241m=\u001b[39m \u001b[38;5;28mself\u001b[39m\u001b[38;5;241m.\u001b[39m_gradient_checkpointing_func(\n\u001b[0;32m   1049\u001b[0m         decoder_layer\u001b[38;5;241m.\u001b[39m\u001b[38;5;21m__call__\u001b[39m,\n\u001b[0;32m   1050\u001b[0m         hidden_states,\n\u001b[1;32m   (...)\u001b[0m\n\u001b[0;32m   1055\u001b[0m         use_cache,\n\u001b[0;32m   1056\u001b[0m     )\n\u001b[0;32m   1057\u001b[0m \u001b[38;5;28;01melse\u001b[39;00m:\n\u001b[1;32m-> 1058\u001b[0m     layer_outputs \u001b[38;5;241m=\u001b[39m \u001b[43mdecoder_layer\u001b[49m\u001b[43m(\u001b[49m\n\u001b[0;32m   1059\u001b[0m \u001b[43m        \u001b[49m\u001b[43mhidden_states\u001b[49m\u001b[43m,\u001b[49m\n\u001b[0;32m   1060\u001b[0m \u001b[43m        \u001b[49m\u001b[43mattention_mask\u001b[49m\u001b[38;5;241;43m=\u001b[39;49m\u001b[43mattention_mask\u001b[49m\u001b[43m,\u001b[49m\n\u001b[0;32m   1061\u001b[0m \u001b[43m        \u001b[49m\u001b[43mposition_ids\u001b[49m\u001b[38;5;241;43m=\u001b[39;49m\u001b[43mposition_ids\u001b[49m\u001b[43m,\u001b[49m\n\u001b[0;32m   1062\u001b[0m \u001b[43m        \u001b[49m\u001b[43mpast_key_value\u001b[49m\u001b[38;5;241;43m=\u001b[39;49m\u001b[43mpast_key_values\u001b[49m\u001b[43m,\u001b[49m\n\u001b[0;32m   1063\u001b[0m \u001b[43m        \u001b[49m\u001b[43moutput_attentions\u001b[49m\u001b[38;5;241;43m=\u001b[39;49m\u001b[43moutput_attentions\u001b[49m\u001b[43m,\u001b[49m\n\u001b[0;32m   1064\u001b[0m \u001b[43m        \u001b[49m\u001b[43muse_cache\u001b[49m\u001b[38;5;241;43m=\u001b[39;49m\u001b[43muse_cache\u001b[49m\u001b[43m,\u001b[49m\n\u001b[0;32m   1065\u001b[0m \u001b[43m    \u001b[49m\u001b[43m)\u001b[49m\n\u001b[0;32m   1067\u001b[0m hidden_states \u001b[38;5;241m=\u001b[39m layer_outputs[\u001b[38;5;241m0\u001b[39m]\n\u001b[0;32m   1069\u001b[0m \u001b[38;5;28;01mif\u001b[39;00m use_cache:\n",
      "File \u001b[1;32mc:\\Users\\mayha\\OneDrive\\Desktop\\year 4\\algs and incentives\\LLMTokenAuctions\\.venv\\Lib\\site-packages\\torch\\nn\\modules\\module.py:1511\u001b[0m, in \u001b[0;36mModule._wrapped_call_impl\u001b[1;34m(self, *args, **kwargs)\u001b[0m\n\u001b[0;32m   1509\u001b[0m     \u001b[38;5;28;01mreturn\u001b[39;00m \u001b[38;5;28mself\u001b[39m\u001b[38;5;241m.\u001b[39m_compiled_call_impl(\u001b[38;5;241m*\u001b[39margs, \u001b[38;5;241m*\u001b[39m\u001b[38;5;241m*\u001b[39mkwargs)  \u001b[38;5;66;03m# type: ignore[misc]\u001b[39;00m\n\u001b[0;32m   1510\u001b[0m \u001b[38;5;28;01melse\u001b[39;00m:\n\u001b[1;32m-> 1511\u001b[0m     \u001b[38;5;28;01mreturn\u001b[39;00m \u001b[38;5;28;43mself\u001b[39;49m\u001b[38;5;241;43m.\u001b[39;49m\u001b[43m_call_impl\u001b[49m\u001b[43m(\u001b[49m\u001b[38;5;241;43m*\u001b[39;49m\u001b[43margs\u001b[49m\u001b[43m,\u001b[49m\u001b[43m \u001b[49m\u001b[38;5;241;43m*\u001b[39;49m\u001b[38;5;241;43m*\u001b[39;49m\u001b[43mkwargs\u001b[49m\u001b[43m)\u001b[49m\n",
      "File \u001b[1;32mc:\\Users\\mayha\\OneDrive\\Desktop\\year 4\\algs and incentives\\LLMTokenAuctions\\.venv\\Lib\\site-packages\\torch\\nn\\modules\\module.py:1520\u001b[0m, in \u001b[0;36mModule._call_impl\u001b[1;34m(self, *args, **kwargs)\u001b[0m\n\u001b[0;32m   1515\u001b[0m \u001b[38;5;66;03m# If we don't have any hooks, we want to skip the rest of the logic in\u001b[39;00m\n\u001b[0;32m   1516\u001b[0m \u001b[38;5;66;03m# this function, and just call forward.\u001b[39;00m\n\u001b[0;32m   1517\u001b[0m \u001b[38;5;28;01mif\u001b[39;00m \u001b[38;5;129;01mnot\u001b[39;00m (\u001b[38;5;28mself\u001b[39m\u001b[38;5;241m.\u001b[39m_backward_hooks \u001b[38;5;129;01mor\u001b[39;00m \u001b[38;5;28mself\u001b[39m\u001b[38;5;241m.\u001b[39m_backward_pre_hooks \u001b[38;5;129;01mor\u001b[39;00m \u001b[38;5;28mself\u001b[39m\u001b[38;5;241m.\u001b[39m_forward_hooks \u001b[38;5;129;01mor\u001b[39;00m \u001b[38;5;28mself\u001b[39m\u001b[38;5;241m.\u001b[39m_forward_pre_hooks\n\u001b[0;32m   1518\u001b[0m         \u001b[38;5;129;01mor\u001b[39;00m _global_backward_pre_hooks \u001b[38;5;129;01mor\u001b[39;00m _global_backward_hooks\n\u001b[0;32m   1519\u001b[0m         \u001b[38;5;129;01mor\u001b[39;00m _global_forward_hooks \u001b[38;5;129;01mor\u001b[39;00m _global_forward_pre_hooks):\n\u001b[1;32m-> 1520\u001b[0m     \u001b[38;5;28;01mreturn\u001b[39;00m \u001b[43mforward_call\u001b[49m\u001b[43m(\u001b[49m\u001b[38;5;241;43m*\u001b[39;49m\u001b[43margs\u001b[49m\u001b[43m,\u001b[49m\u001b[43m \u001b[49m\u001b[38;5;241;43m*\u001b[39;49m\u001b[38;5;241;43m*\u001b[39;49m\u001b[43mkwargs\u001b[49m\u001b[43m)\u001b[49m\n\u001b[0;32m   1522\u001b[0m \u001b[38;5;28;01mtry\u001b[39;00m:\n\u001b[0;32m   1523\u001b[0m     result \u001b[38;5;241m=\u001b[39m \u001b[38;5;28;01mNone\u001b[39;00m\n",
      "File \u001b[1;32mc:\\Users\\mayha\\OneDrive\\Desktop\\year 4\\algs and incentives\\LLMTokenAuctions\\.venv\\Lib\\site-packages\\transformers\\models\\qwen2\\modeling_qwen2.py:786\u001b[0m, in \u001b[0;36mQwen2DecoderLayer.forward\u001b[1;34m(self, hidden_states, attention_mask, position_ids, past_key_value, output_attentions, use_cache, **kwargs)\u001b[0m\n\u001b[0;32m    784\u001b[0m residual \u001b[38;5;241m=\u001b[39m hidden_states\n\u001b[0;32m    785\u001b[0m hidden_states \u001b[38;5;241m=\u001b[39m \u001b[38;5;28mself\u001b[39m\u001b[38;5;241m.\u001b[39mpost_attention_layernorm(hidden_states)\n\u001b[1;32m--> 786\u001b[0m hidden_states \u001b[38;5;241m=\u001b[39m \u001b[38;5;28;43mself\u001b[39;49m\u001b[38;5;241;43m.\u001b[39;49m\u001b[43mmlp\u001b[49m\u001b[43m(\u001b[49m\u001b[43mhidden_states\u001b[49m\u001b[43m)\u001b[49m\n\u001b[0;32m    787\u001b[0m hidden_states \u001b[38;5;241m=\u001b[39m residual \u001b[38;5;241m+\u001b[39m hidden_states\n\u001b[0;32m    789\u001b[0m outputs \u001b[38;5;241m=\u001b[39m (hidden_states,)\n",
      "File \u001b[1;32mc:\\Users\\mayha\\OneDrive\\Desktop\\year 4\\algs and incentives\\LLMTokenAuctions\\.venv\\Lib\\site-packages\\torch\\nn\\modules\\module.py:1511\u001b[0m, in \u001b[0;36mModule._wrapped_call_impl\u001b[1;34m(self, *args, **kwargs)\u001b[0m\n\u001b[0;32m   1509\u001b[0m     \u001b[38;5;28;01mreturn\u001b[39;00m \u001b[38;5;28mself\u001b[39m\u001b[38;5;241m.\u001b[39m_compiled_call_impl(\u001b[38;5;241m*\u001b[39margs, \u001b[38;5;241m*\u001b[39m\u001b[38;5;241m*\u001b[39mkwargs)  \u001b[38;5;66;03m# type: ignore[misc]\u001b[39;00m\n\u001b[0;32m   1510\u001b[0m \u001b[38;5;28;01melse\u001b[39;00m:\n\u001b[1;32m-> 1511\u001b[0m     \u001b[38;5;28;01mreturn\u001b[39;00m \u001b[38;5;28;43mself\u001b[39;49m\u001b[38;5;241;43m.\u001b[39;49m\u001b[43m_call_impl\u001b[49m\u001b[43m(\u001b[49m\u001b[38;5;241;43m*\u001b[39;49m\u001b[43margs\u001b[49m\u001b[43m,\u001b[49m\u001b[43m \u001b[49m\u001b[38;5;241;43m*\u001b[39;49m\u001b[38;5;241;43m*\u001b[39;49m\u001b[43mkwargs\u001b[49m\u001b[43m)\u001b[49m\n",
      "File \u001b[1;32mc:\\Users\\mayha\\OneDrive\\Desktop\\year 4\\algs and incentives\\LLMTokenAuctions\\.venv\\Lib\\site-packages\\torch\\nn\\modules\\module.py:1520\u001b[0m, in \u001b[0;36mModule._call_impl\u001b[1;34m(self, *args, **kwargs)\u001b[0m\n\u001b[0;32m   1515\u001b[0m \u001b[38;5;66;03m# If we don't have any hooks, we want to skip the rest of the logic in\u001b[39;00m\n\u001b[0;32m   1516\u001b[0m \u001b[38;5;66;03m# this function, and just call forward.\u001b[39;00m\n\u001b[0;32m   1517\u001b[0m \u001b[38;5;28;01mif\u001b[39;00m \u001b[38;5;129;01mnot\u001b[39;00m (\u001b[38;5;28mself\u001b[39m\u001b[38;5;241m.\u001b[39m_backward_hooks \u001b[38;5;129;01mor\u001b[39;00m \u001b[38;5;28mself\u001b[39m\u001b[38;5;241m.\u001b[39m_backward_pre_hooks \u001b[38;5;129;01mor\u001b[39;00m \u001b[38;5;28mself\u001b[39m\u001b[38;5;241m.\u001b[39m_forward_hooks \u001b[38;5;129;01mor\u001b[39;00m \u001b[38;5;28mself\u001b[39m\u001b[38;5;241m.\u001b[39m_forward_pre_hooks\n\u001b[0;32m   1518\u001b[0m         \u001b[38;5;129;01mor\u001b[39;00m _global_backward_pre_hooks \u001b[38;5;129;01mor\u001b[39;00m _global_backward_hooks\n\u001b[0;32m   1519\u001b[0m         \u001b[38;5;129;01mor\u001b[39;00m _global_forward_hooks \u001b[38;5;129;01mor\u001b[39;00m _global_forward_pre_hooks):\n\u001b[1;32m-> 1520\u001b[0m     \u001b[38;5;28;01mreturn\u001b[39;00m \u001b[43mforward_call\u001b[49m\u001b[43m(\u001b[49m\u001b[38;5;241;43m*\u001b[39;49m\u001b[43margs\u001b[49m\u001b[43m,\u001b[49m\u001b[43m \u001b[49m\u001b[38;5;241;43m*\u001b[39;49m\u001b[38;5;241;43m*\u001b[39;49m\u001b[43mkwargs\u001b[49m\u001b[43m)\u001b[49m\n\u001b[0;32m   1522\u001b[0m \u001b[38;5;28;01mtry\u001b[39;00m:\n\u001b[0;32m   1523\u001b[0m     result \u001b[38;5;241m=\u001b[39m \u001b[38;5;28;01mNone\u001b[39;00m\n",
      "File \u001b[1;32mc:\\Users\\mayha\\OneDrive\\Desktop\\year 4\\algs and incentives\\LLMTokenAuctions\\.venv\\Lib\\site-packages\\transformers\\models\\qwen2\\modeling_qwen2.py:185\u001b[0m, in \u001b[0;36mQwen2MLP.forward\u001b[1;34m(self, x)\u001b[0m\n\u001b[0;32m    184\u001b[0m \u001b[38;5;28;01mdef\u001b[39;00m \u001b[38;5;21mforward\u001b[39m(\u001b[38;5;28mself\u001b[39m, x):\n\u001b[1;32m--> 185\u001b[0m     \u001b[38;5;28;01mreturn\u001b[39;00m \u001b[38;5;28mself\u001b[39m\u001b[38;5;241m.\u001b[39mdown_proj(\u001b[38;5;28mself\u001b[39m\u001b[38;5;241m.\u001b[39mact_fn(\u001b[38;5;28mself\u001b[39m\u001b[38;5;241m.\u001b[39mgate_proj(x)) \u001b[38;5;241m*\u001b[39m \u001b[38;5;28;43mself\u001b[39;49m\u001b[38;5;241;43m.\u001b[39;49m\u001b[43mup_proj\u001b[49m\u001b[43m(\u001b[49m\u001b[43mx\u001b[49m\u001b[43m)\u001b[49m)\n",
      "File \u001b[1;32mc:\\Users\\mayha\\OneDrive\\Desktop\\year 4\\algs and incentives\\LLMTokenAuctions\\.venv\\Lib\\site-packages\\torch\\nn\\modules\\module.py:1511\u001b[0m, in \u001b[0;36mModule._wrapped_call_impl\u001b[1;34m(self, *args, **kwargs)\u001b[0m\n\u001b[0;32m   1509\u001b[0m     \u001b[38;5;28;01mreturn\u001b[39;00m \u001b[38;5;28mself\u001b[39m\u001b[38;5;241m.\u001b[39m_compiled_call_impl(\u001b[38;5;241m*\u001b[39margs, \u001b[38;5;241m*\u001b[39m\u001b[38;5;241m*\u001b[39mkwargs)  \u001b[38;5;66;03m# type: ignore[misc]\u001b[39;00m\n\u001b[0;32m   1510\u001b[0m \u001b[38;5;28;01melse\u001b[39;00m:\n\u001b[1;32m-> 1511\u001b[0m     \u001b[38;5;28;01mreturn\u001b[39;00m \u001b[38;5;28;43mself\u001b[39;49m\u001b[38;5;241;43m.\u001b[39;49m\u001b[43m_call_impl\u001b[49m\u001b[43m(\u001b[49m\u001b[38;5;241;43m*\u001b[39;49m\u001b[43margs\u001b[49m\u001b[43m,\u001b[49m\u001b[43m \u001b[49m\u001b[38;5;241;43m*\u001b[39;49m\u001b[38;5;241;43m*\u001b[39;49m\u001b[43mkwargs\u001b[49m\u001b[43m)\u001b[49m\n",
      "File \u001b[1;32mc:\\Users\\mayha\\OneDrive\\Desktop\\year 4\\algs and incentives\\LLMTokenAuctions\\.venv\\Lib\\site-packages\\torch\\nn\\modules\\module.py:1520\u001b[0m, in \u001b[0;36mModule._call_impl\u001b[1;34m(self, *args, **kwargs)\u001b[0m\n\u001b[0;32m   1515\u001b[0m \u001b[38;5;66;03m# If we don't have any hooks, we want to skip the rest of the logic in\u001b[39;00m\n\u001b[0;32m   1516\u001b[0m \u001b[38;5;66;03m# this function, and just call forward.\u001b[39;00m\n\u001b[0;32m   1517\u001b[0m \u001b[38;5;28;01mif\u001b[39;00m \u001b[38;5;129;01mnot\u001b[39;00m (\u001b[38;5;28mself\u001b[39m\u001b[38;5;241m.\u001b[39m_backward_hooks \u001b[38;5;129;01mor\u001b[39;00m \u001b[38;5;28mself\u001b[39m\u001b[38;5;241m.\u001b[39m_backward_pre_hooks \u001b[38;5;129;01mor\u001b[39;00m \u001b[38;5;28mself\u001b[39m\u001b[38;5;241m.\u001b[39m_forward_hooks \u001b[38;5;129;01mor\u001b[39;00m \u001b[38;5;28mself\u001b[39m\u001b[38;5;241m.\u001b[39m_forward_pre_hooks\n\u001b[0;32m   1518\u001b[0m         \u001b[38;5;129;01mor\u001b[39;00m _global_backward_pre_hooks \u001b[38;5;129;01mor\u001b[39;00m _global_backward_hooks\n\u001b[0;32m   1519\u001b[0m         \u001b[38;5;129;01mor\u001b[39;00m _global_forward_hooks \u001b[38;5;129;01mor\u001b[39;00m _global_forward_pre_hooks):\n\u001b[1;32m-> 1520\u001b[0m     \u001b[38;5;28;01mreturn\u001b[39;00m \u001b[43mforward_call\u001b[49m\u001b[43m(\u001b[49m\u001b[38;5;241;43m*\u001b[39;49m\u001b[43margs\u001b[49m\u001b[43m,\u001b[49m\u001b[43m \u001b[49m\u001b[38;5;241;43m*\u001b[39;49m\u001b[38;5;241;43m*\u001b[39;49m\u001b[43mkwargs\u001b[49m\u001b[43m)\u001b[49m\n\u001b[0;32m   1522\u001b[0m \u001b[38;5;28;01mtry\u001b[39;00m:\n\u001b[0;32m   1523\u001b[0m     result \u001b[38;5;241m=\u001b[39m \u001b[38;5;28;01mNone\u001b[39;00m\n",
      "File \u001b[1;32mc:\\Users\\mayha\\OneDrive\\Desktop\\year 4\\algs and incentives\\LLMTokenAuctions\\.venv\\Lib\\site-packages\\torch\\nn\\modules\\linear.py:116\u001b[0m, in \u001b[0;36mLinear.forward\u001b[1;34m(self, input)\u001b[0m\n\u001b[0;32m    115\u001b[0m \u001b[38;5;28;01mdef\u001b[39;00m \u001b[38;5;21mforward\u001b[39m(\u001b[38;5;28mself\u001b[39m, \u001b[38;5;28minput\u001b[39m: Tensor) \u001b[38;5;241m-\u001b[39m\u001b[38;5;241m>\u001b[39m Tensor:\n\u001b[1;32m--> 116\u001b[0m     \u001b[38;5;28;01mreturn\u001b[39;00m \u001b[43mF\u001b[49m\u001b[38;5;241;43m.\u001b[39;49m\u001b[43mlinear\u001b[49m\u001b[43m(\u001b[49m\u001b[38;5;28;43minput\u001b[39;49m\u001b[43m,\u001b[49m\u001b[43m \u001b[49m\u001b[38;5;28;43mself\u001b[39;49m\u001b[38;5;241;43m.\u001b[39;49m\u001b[43mweight\u001b[49m\u001b[43m,\u001b[49m\u001b[43m \u001b[49m\u001b[38;5;28;43mself\u001b[39;49m\u001b[38;5;241;43m.\u001b[39;49m\u001b[43mbias\u001b[49m\u001b[43m)\u001b[49m\n",
      "\u001b[1;31mKeyboardInterrupt\u001b[0m: "
     ]
    }
   ],
   "source": [
    "outcome, ad_payments = generate_text(alpha_airlines_bid=3.0, beta_resort_bid=2.0, verbose=True)"
   ]
  },
  {
   "cell_type": "code",
   "execution_count": 18,
   "metadata": {},
   "outputs": [],
   "source": [
    "def string_in_string(substring, main_string):\n",
    "    return 1 if substring.lower() in main_string.lower() else 0\n"
   ]
  },
  {
   "cell_type": "code",
   "execution_count": 19,
   "metadata": {},
   "outputs": [],
   "source": [
    "def run_exp(num_tries: int,alpha_airlines_bid,beta_resort_bid):\n",
    "    result_alpha = []\n",
    "    result_beta = []\n",
    "    for i in range(num_tries):\n",
    "        outcome, ad_payments,  chosen_tokens_probs_result_alpha, chosen_tokens_probs_result_beta = generate_text(alpha_airlines_bid=alpha_airlines_bid, beta_resort_bid=beta_resort_bid, verbose=True)\n",
    "        is_name_appear_alpha = string_in_string(substring=\"Alpha Airlines\", main_string=outcome)\n",
    "        is_name_appear_beta = string_in_string(substring=\"Beta Resort\", main_string=outcome)\n",
    "        avg_chosen_token_prob_alpha = sum(chosen_tokens_probs_result_alpha) / len(chosen_tokens_probs_result_alpha)\n",
    "        avg_chosen_token_prob_beta = sum(chosen_tokens_probs_result_beta) / len(chosen_tokens_probs_result_beta)\n",
    "        result_alpha.append([is_name_appear_alpha,avg_chosen_token_prob_alpha])\n",
    "        result_beta.append([is_name_appear_beta,avg_chosen_token_prob_beta])\n",
    "    return result_alpha, result_beta"
   ]
  },
  {
   "cell_type": "code",
   "execution_count": 22,
   "metadata": {},
   "outputs": [
    {
     "name": "stdout",
     "output_type": "stream",
     "text": [
      "\"Escape to paradise with Alpha Airlines, where every flight to Hawaii is a journey to paradise. Experience\n",
      " 5.563813587029775 minutes\n"
     ]
    }
   ],
   "source": [
    "alpha_airlines_bid = 3.0\n",
    "beta_resort_bid = 2.0\n",
    "num_tries = 1\n",
    "\n",
    "results_3_2_alpha, results_3_2_beta = run_exp(num_tries=num_tries, alpha_airlines_bid=alpha_airlines_bid, beta_resort_bid=beta_resort_bid)\n"
   ]
  },
  {
   "cell_type": "code",
   "execution_count": 24,
   "metadata": {},
   "outputs": [
    {
     "data": {
      "text/plain": [
       "[[1, 0.5096473164856434]]"
      ]
     },
     "execution_count": 24,
     "metadata": {},
     "output_type": "execute_result"
    }
   ],
   "source": [
    "results_3_2_alpha"
   ]
  },
  {
   "cell_type": "code",
   "execution_count": 25,
   "metadata": {},
   "outputs": [
    {
     "data": {
      "text/plain": [
       "[[0, 0.33239060880732724]]"
      ]
     },
     "execution_count": 25,
     "metadata": {},
     "output_type": "execute_result"
    }
   ],
   "source": [
    "results_3_2_beta"
   ]
  },
  {
   "cell_type": "code",
   "execution_count": 237,
   "metadata": {
    "collapsed": false
   },
   "outputs": [
    {
     "name": "stdout",
     "output_type": "stream",
     "text": [
      "Leave the lands of discomfort behind and speed plummet into the甜蜜怡人的汉密尔顿居所，肆意感染沿途的丝丝降日起风，渴望展开犹如欢迎大海的平凡栖息地。come\n",
      "Wake up Call air | Detour to Hawaii with Alpha Airlines. Cross the dioration challenge� Cruise palms and volcanic skirts, aboard Zeus Spesters Cruiter service. Switch bevis by Jeff Foggy Observatory, scatter desert formations ethereal awe. Throw macadamia nuts and the han xero ten fill your papaya ripen blues. Splattr land five condayz indulging in freshwater pineapple mash exegesis aglow. Lucky scoop lounge could board against the gaze of Alaska \"panacciona\" glass until back luck20.830028506120048 minutes\n"
     ]
    },
    {
     "data": {
      "text/plain": [
       "array([0.00000e+00, 2.07942e-06], dtype=float32)"
      ]
     },
     "execution_count": 237,
     "metadata": {},
     "output_type": "execute_result"
    }
   ],
   "source": [
    "outcome, ad_payments = generate_text(alpha_airlines_bid=0.8, beta_resort_bid=0.2, verbose=True)\n",
    "ad_payments"
   ]
  },
  {
   "cell_type": "code",
   "execution_count": 13,
   "metadata": {},
   "outputs": [
    {
     "data": {
      "text/plain": [
       "'\"Escape to paradise with Alpha Airlines, where every flight to Hawaii is a journey to paradise. Experience the ultimate in relaxation and adventure at the Beta Resort, where every moment is a masterpiece.\"'"
      ]
     },
     "execution_count": 13,
     "metadata": {},
     "output_type": "execute_result"
    }
   ],
   "source": [
    "outcome"
   ]
  },
  {
   "cell_type": "code",
   "execution_count": 238,
   "metadata": {
    "collapsed": false
   },
   "outputs": [
    {
     "name": "stdout",
     "output_type": "stream",
     "text": [
      "\"Experience the ultimate in relaxation and adventure with Alpha Airlines, where every flight to Hawaii is a journey to paradise. Book your ticket today and let us whisk you away to the islands of Oahu, Maui, and Kauai, where the sun, sand, and surf await you.\"7.007547509670258 minutes\n"
     ]
    },
    {
     "data": {
      "text/plain": [
       "array([6.309278 , 1.5334584], dtype=float32)"
      ]
     },
     "execution_count": 238,
     "metadata": {},
     "output_type": "execute_result"
    }
   ],
   "source": [
    "outcome, ad_payments = generate_text(alpha_airlines_bid=8.0, beta_resort_bid=2.0, verbose=True)\n",
    "ad_payments"
   ]
  },
  {
   "cell_type": "code",
   "execution_count": 10,
   "metadata": {
    "collapsed": false
   },
   "outputs": [
    {
     "name": "stderr",
     "output_type": "stream",
     "text": [
      "C:\\Users\\ggoren\\AppData\\Local\\Temp\\1\\ipykernel_12876\\3013261795.py:2: UserWarning: The use of `x.T` on tensors of dimension other than 2 to reverse their shape is deprecated and it will throw an error in a future release. Consider `x.mT` to transpose batches of matrices or `x.permute(*torch.arange(x.ndim - 1, -1, -1))` to reverse the dimensions of a tensor. (Triggered internally at ..\\aten\\src\\ATen\\native\\TensorShape.cpp:3641.)\n",
      "  result = combined_probs.T @ b  / b.sum()\n"
     ]
    },
    {
     "name": "stdout",
     "output_type": "stream",
     "text": [
      "\"Experience the ultimate escape to Hawaii with Alpha Airlines, where every flight is a journey to paradise. Embark on a tropical adventure with us, where the sun, sand, and surf await your arrival. Book your flight today and let us whisk you away to the islands of Oahu, Maui, and the Big Island. Get ready to soak up the sun, taste the flavors of the islands, and create unforgettable memories. Book now and let us make your Hawaii dream a reality.\"13.257178560892742 minutes\n"
     ]
    },
    {
     "data": {
      "text/plain": [
       "'\"Experience the ultimate escape to Hawaii with Alpha Airlines, where every flight is a journey to paradise. Embark on a tropical adventure with us, where the sun, sand, and surf await your arrival. Book your flight today and let us whisk you away to the islands of Oahu, Maui, and the Big Island. Get ready to soak up the sun, taste the flavors of the islands, and create unforgettable memories. Book now and let us make your Hawaii dream a reality.\"'"
      ]
     },
     "execution_count": 10,
     "metadata": {},
     "output_type": "execute_result"
    }
   ],
   "source": [
    "generate_text(alpha_airlines_bid=1.0, beta_resort_bid=0, verbose=True)"
   ]
  },
  {
   "cell_type": "code",
   "execution_count": 11,
   "metadata": {
    "collapsed": false
   },
   "outputs": [
    {
     "name": "stdout",
     "output_type": "stream",
     "text": [
      "\"Experience the ultimate in relaxation and adventure with Alpha Airlines, where every flight to Hawaii is a journey to paradise. Book your ticket today and let us whisk you away to the islands of Oahu, Maui, and Kauai, where the sun, sand, and surf await you.\"6.857414416472117 minutes\n"
     ]
    },
    {
     "data": {
      "text/plain": [
       "'\"Experience the ultimate in relaxation and adventure with Alpha Airlines, where every flight to Hawaii is a journey to paradise. Book your ticket today and let us whisk you away to the islands of Oahu, Maui, and Kauai, where the sun, sand, and surf await you.\"'"
      ]
     },
     "execution_count": 11,
     "metadata": {},
     "output_type": "execute_result"
    }
   ],
   "source": [
    "generate_text(alpha_airlines_bid=0.8, beta_resort_bid=0.2, verbose=True)"
   ]
  },
  {
   "cell_type": "code",
   "execution_count": 12,
   "metadata": {
    "collapsed": false
   },
   "outputs": [
    {
     "name": "stdout",
     "output_type": "stream",
     "text": [
      "\"Escape to paradise at Beta Resort, where the sun-kissed beaches and tropical breezes await you on a one-of-a-kind vacation in Hawaii. Book your Alpha Airlines flight today and let the magic begin!\"4.623338862260183 minutes\n"
     ]
    },
    {
     "data": {
      "text/plain": [
       "'\"Escape to paradise at Beta Resort, where the sun-kissed beaches and tropical breezes await you on a one-of-a-kind vacation in Hawaii. Book your Alpha Airlines flight today and let the magic begin!\"'"
      ]
     },
     "execution_count": 12,
     "metadata": {},
     "output_type": "execute_result"
    }
   ],
   "source": [
    "generate_text(alpha_airlines_bid=0.5, beta_resort_bid=0.5, verbose=True)"
   ]
  },
  {
   "cell_type": "code",
   "execution_count": 13,
   "metadata": {
    "collapsed": false
   },
   "outputs": [
    {
     "name": "stdout",
     "output_type": "stream",
     "text": [
      "\"Escape to paradise at Beta Resort in Hawaii, where the sun-kissed beaches and lush greenery await, offering a vacation that's as breathtaking as it is unforgettable.\"3.571047798792521 minutes\n"
     ]
    },
    {
     "data": {
      "text/plain": [
       "'\"Escape to paradise at Beta Resort in Hawaii, where the sun-kissed beaches and lush greenery await, offering a vacation that\\'s as breathtaking as it is unforgettable.\"'"
      ]
     },
     "execution_count": 13,
     "metadata": {},
     "output_type": "execute_result"
    }
   ],
   "source": [
    "generate_text(alpha_airlines_bid=0.28, beta_resort_bid=0.72, verbose=True)"
   ]
  },
  {
   "cell_type": "code",
   "execution_count": 14,
   "metadata": {
    "collapsed": false
   },
   "outputs": [
    {
     "name": "stdout",
     "output_type": "stream",
     "text": [
      "Experience the ultimate in relaxation and adventure at the Beta Resort in Hawaii, where the sun-kissed beaches, crystal-clear waters, and lush tropical landscapes come together to create a vacation that's both unforgettable and unforgettable. Book your stay now and let the magic of Hawaii's paradise take you away.6.77712786992391 minutes\n"
     ]
    },
    {
     "data": {
      "text/plain": [
       "\"Experience the ultimate in relaxation and adventure at the Beta Resort in Hawaii, where the sun-kissed beaches, crystal-clear waters, and lush tropical landscapes come together to create a vacation that's both unforgettable and unforgettable. Book your stay now and let the magic of Hawaii's paradise take you away.\""
      ]
     },
     "execution_count": 14,
     "metadata": {},
     "output_type": "execute_result"
    }
   ],
   "source": [
    "generate_text(alpha_airlines_bid=0.2, beta_resort_bid=0.8, verbose=True)"
   ]
  },
  {
   "cell_type": "code",
   "execution_count": 15,
   "metadata": {
    "collapsed": false
   },
   "outputs": [
    {
     "name": "stdout",
     "output_type": "stream",
     "text": [
      "Experience the ultimate in relaxation and adventure at the Beta Resort in Hawaii, where the sun-kissed beaches, crystal-clear waters, and lush tropical landscapes come together to create a vacation that's both unforgettable and unforgettable. Book your stay now and let the magic of Hawaii's paradise take you away.6.6692070682843525 minutes\n"
     ]
    },
    {
     "data": {
      "text/plain": [
       "\"Experience the ultimate in relaxation and adventure at the Beta Resort in Hawaii, where the sun-kissed beaches, crystal-clear waters, and lush tropical landscapes come together to create a vacation that's both unforgettable and unforgettable. Book your stay now and let the magic of Hawaii's paradise take you away.\""
      ]
     },
     "execution_count": 15,
     "metadata": {},
     "output_type": "execute_result"
    }
   ],
   "source": [
    "generate_text(alpha_airlines_bid=0, beta_resort_bid=1.0, verbose=True)"
   ]
  },
  {
   "cell_type": "code",
   "execution_count": null,
   "metadata": {
    "collapsed": false
   },
   "outputs": [],
   "source": []
  }
 ],
 "metadata": {
  "kernelspec": {
   "display_name": "Python 3",
   "language": "python",
   "name": "python3"
  },
  "language_info": {
   "codemirror_mode": {
    "name": "ipython",
    "version": 3
   },
   "file_extension": ".py",
   "mimetype": "text/x-python",
   "name": "python",
   "nbconvert_exporter": "python",
   "pygments_lexer": "ipython3",
   "version": "3.11.4"
  }
 },
 "nbformat": 4,
 "nbformat_minor": 0
}
