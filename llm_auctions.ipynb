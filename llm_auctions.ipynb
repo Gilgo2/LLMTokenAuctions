{
 "cells": [
  {
   "cell_type": "code",
   "execution_count": 54,
   "metadata": {
    "collapsed": true
   },
   "outputs": [
    {
     "name": "stdout",
     "output_type": "stream",
     "text": [
      "The autoreload extension is already loaded. To reload it, use:\n",
      "  %reload_ext autoreload\n"
     ]
    }
   ],
   "source": [
    "import sys\n",
    "from strategies import *\n",
    "from bidder import Bidder\n",
    "%load_ext autoreload\n",
    "%autoreload 2"
   ]
  },
  {
   "cell_type": "code",
   "execution_count": 40,
   "outputs": [],
   "source": [
    "sys.path.append(r'c:\\users\\ggoren\\PycharmProjects\\AGTProject')"
   ],
   "metadata": {
    "collapsed": false
   }
  },
  {
   "cell_type": "code",
   "execution_count": 41,
   "outputs": [],
   "source": [
    "import torch\n",
    "from transformers import AutoModelForCausalLM, AutoTokenizer, pipeline"
   ],
   "metadata": {
    "collapsed": false
   }
  },
  {
   "cell_type": "code",
   "execution_count": 42,
   "outputs": [],
   "source": [
    "model = AutoModelForCausalLM.from_pretrained(\n",
    "    \"Qwen/Qwen2-1.5B-Instruct\",\n",
    "    torch_dtype=\"auto\",\n",
    "    device_map=\"auto\"\n",
    ")"
   ],
   "metadata": {
    "collapsed": false
   }
  },
  {
   "cell_type": "code",
   "execution_count": 43,
   "outputs": [
    {
     "name": "stderr",
     "output_type": "stream",
     "text": [
      "Special tokens have been added in the vocabulary, make sure the associated word embeddings are fine-tuned or trained.\n"
     ]
    }
   ],
   "source": [
    "tokenizer = AutoTokenizer.from_pretrained(\"Qwen/Qwen2-0.5B-Instruct\")"
   ],
   "metadata": {
    "collapsed": false
   }
  },
  {
   "cell_type": "code",
   "execution_count": 44,
   "outputs": [],
   "source": [
    "def apply_chat_template(messages, tokens):\n",
    "    return f'<|im_start|>system\\n{messages[0][\"content\"]}.<|im_end|>\\n<|im_start|>user\\n{messages[1][\"content\"]}<|im_end|>\\n<|im_start|>assistant\\n{\"\".join(tokens)}'\n",
    "\n",
    "def get_next_word_probs(messages, tokens):\n",
    "    text = apply_chat_template(messages, tokens)\n",
    "    model_inputs = tokenizer([text], return_tensors=\"pt\")\n",
    "\n",
    "    outputs = model(model_inputs.input_ids)\n",
    "    logits = outputs.logits\n",
    "\n",
    "    next_token_logits = logits[:, -1, :]  # Get the logits for the last token\n",
    "    next_token_probs = torch.nn.functional.softmax(next_token_logits, dim=-1)\n",
    "\n",
    "    # Get the top 10 most probable tokens\n",
    "    top_k = 50\n",
    "    top_probs, top_indices = torch.topk(next_token_probs, top_k, dim=-1)\n",
    "    return top_probs, top_indices\n"
   ],
   "metadata": {
    "collapsed": false
   }
  },
  {
   "cell_type": "code",
   "execution_count": 45,
   "outputs": [],
   "source": [
    " import numpy as np\n",
    " def q_integral(p, b,t,i,value):\n",
    "    P = (p.T @ b)[t] - p[i][t] * b[i]\n",
    "    S = b.sum() - b[i]\n",
    "    return p[i][t] * value + (P - p[i][t] * S) * torch.log(torch.abs(value + S))\n",
    "\n",
    "def token_payment(p, b, t, i, q):\n",
    "    return 1/2 * ((q[t] - p[i][t]) * b[i] - (q_integral(p, b, t, i, b[i]) - q_integral(p, b,t, i, 0) - p[i][t] *b[i]))\n",
    "\n",
    "def update_payments(payments, p, b, q):\n",
    "    \"\"\"\n",
    "    Iterate every bidder and token to get its payments from the integral\n",
    "    :param payments: Current payment vector to update\n",
    "    :param p: Current bidder's distributions over token\n",
    "    :param b: Bidders' bid\n",
    "    :param q: Distribution aggregation\n",
    "    :return: Updated payments vector\n",
    "    \"\"\"\n",
    "    for i in range(b.shape[0]):\n",
    "        for t in range(p.shape[0]):\n",
    "            payment = token_payment(p, b, t, i, q).item()\n",
    "            payments[i] += max(payment, 0)\n",
    "    return payments\n"
   ],
   "metadata": {
    "collapsed": false
   }
  },
  {
   "cell_type": "code",
   "execution_count": 46,
   "outputs": [],
   "source": [
    "def qkl(b, combined_probs):\n",
    "    result = combined_probs.T @ b  / b.sum()\n",
    "    return result\n",
    "\n",
    "def get_missing_tokens(tensor_a, tensor_b):\n",
    "    indices_a_not_in_b_mask = ~torch.isin(tensor_a, tensor_b)\n",
    "    indices_a_not_in_b = tensor_a[indices_a_not_in_b_mask].reshape(1, -1)\n",
    "    return indices_a_not_in_b\n",
    "\n",
    "def add_zero_probs_for_new_tokens(indices, probs, new_tokens):\n",
    "\n",
    "    indices = torch.cat([indices, new_tokens], dim=1)\n",
    "    zero_probs = torch.zeros_like(new_tokens)\n",
    "    probs = torch.cat([probs, zero_probs], dim=1)\n",
    "    return indices, probs\n",
    "\n",
    "def sort_tokens(indices, probs):\n",
    "    sorted_indices, sorted_order = torch.sort(indices)\n",
    "    sorted_probs = probs[0, sorted_order]\n",
    "    return sorted_indices, sorted_probs\n",
    "\n",
    "def sort_and_combine_dists(top_probs_alpha, top_indices_alpha, top_probs_beta, top_indices_beta):\n",
    "    beta_missing_tokens = get_missing_tokens(top_indices_alpha, top_indices_beta)\n",
    "    alpha_missing_tokens = get_missing_tokens(top_indices_beta, top_indices_alpha)\n",
    "\n",
    "    full_alpha_indices, full_alpha_probs = add_zero_probs_for_new_tokens(top_indices_alpha, top_probs_alpha, alpha_missing_tokens)\n",
    "    full_beta_indices, full_beta_probs = add_zero_probs_for_new_tokens(top_indices_beta, top_probs_beta, beta_missing_tokens)\n",
    "\n",
    "    sorted_alpha_indices, sorted_alpha_probs = sort_tokens(full_alpha_indices, full_alpha_probs)\n",
    "    sorted_beta_indices, sorted_beta_probs = sort_tokens(full_beta_indices, full_beta_probs)\n",
    "\n",
    "    combined_indices = torch.cat([sorted_alpha_indices, sorted_beta_indices])\n",
    "    combined_probs = torch.cat([sorted_alpha_probs, sorted_beta_probs])\n",
    "    return combined_indices, combined_probs\n",
    "\n",
    "\n",
    "def get_next_token(b, top_probs_alpha, top_indices_alpha, top_probs_beta, top_indices_beta, payments, temperature=0.025):\n",
    "    \"\"\"\n",
    "    This function receives distributions from both bidders, aggregates them into one distribution (q), calculates the costs\n",
    "    and samples the next token\n",
    "    :param b: Bidders' bid\n",
    "    :param top_probs_alpha: Distribution of Bidder alpha over tokens\n",
    "    :param top_indices_alpha: Mapping of indices to actual tokens for bidder alpha\n",
    "    :param top_probs_beta: Distribution of Bidder beta over tokens\n",
    "    :param top_indices_beta: Mapping of indices to actual tokens for bidder beta\n",
    "    :param payments: Vector of payments\n",
    "    :param temperature: Temperature parameter to control token sampling\n",
    "    :return: The next sampled token and induced payments.\n",
    "    \"\"\"\n",
    "    # combined_probs is p: A tensor for each bidder with dist over tokens\n",
    "    # combined_indices is the actual token\n",
    "    combined_indices, combined_probs = sort_and_combine_dists(top_probs_alpha, top_indices_alpha, top_probs_beta, top_indices_beta)\n",
    "    token_logits = qkl(combined_probs, b)\n",
    "    payments = update_payments(payments, combined_probs, b, token_logits)\n",
    "    token_temperature_logits = token_logits / temperature\n",
    "    token_dist = torch.softmax(token_temperature_logits, dim=0)\n",
    "    token = tokenizer.decode(combined_indices[0,torch.multinomial(token_dist, 1)].item())\n",
    "    return token, payments\n"
   ],
   "metadata": {
    "collapsed": false
   }
  },
  {
   "cell_type": "code",
   "execution_count": 59,
   "outputs": [],
   "source": [
    "\n",
    "messages_alpha = [\n",
    "    {\"role\": \"user\", \"content\": \"You are an expert of writing texts that naturally combines two ads together. Your choice of words and sentences is full of artistic flair\"}, {\"role\":\"user\", \"content\":\"Write a two-sentence ad for a flight to Hawaii using Alpha Airlines. Ensure Alpha Airlines is at the beginning of each sentence.\"}\n",
    "]\n",
    "messages_beta = [\n",
    "    {\"role\": \"user\", \"content\": \"You are an expert of writing texts that naturally combines two ads together. Your choice of words and sentences is full of artistic flair\"}, {\"role\":\"user\", \"content\":\"Write a two-sentence ad for a vacation in Hawaii at the Beta Resort. Ensure Beta Resort is at the beginning of each sentence.\"}\n",
    "]"
   ],
   "metadata": {
    "collapsed": false
   }
  },
  {
   "cell_type": "code",
   "execution_count": 80,
   "outputs": [],
   "source": [
    "import time\n",
    "def generate_text(alpha_airlines_bidder: Bidder, beta_resort_bidder: Bidder, sentence_limit=2, token_count=150, verbose = True):\n",
    "    start_time = time.time()\n",
    "    sentence_counter = 0\n",
    "    tokens = []\n",
    "    alpha_airlines_bid = alpha_airlines_bidder.get_bid(\"\".join(tokens))\n",
    "    beta_resort_bid = beta_resort_bidder.get_bid(\"\".join(tokens))\n",
    "    b = torch.tensor([alpha_airlines_bid, beta_resort_bid])\n",
    "    payments = np.zeros_like(b)\n",
    "    for _ in range(token_count):\n",
    "        top_probs_alpha, top_indices_alpha  = get_next_word_probs(messages_alpha, tokens)\n",
    "        top_probs_beta, top_indices_beta = get_next_word_probs(messages_beta, tokens)\n",
    "        next_token, payments = get_next_token(b, top_probs_alpha, top_indices_alpha, top_probs_beta, top_indices_beta, payments)\n",
    "\n",
    "        if verbose:\n",
    "            print(next_token, end='')\n",
    "\n",
    "        tokens.append(next_token)\n",
    "\n",
    "        # Break after 2 sentences\n",
    "        if \".\" in next_token:\n",
    "            sentence_counter += 1\n",
    "            if sentence_counter >= sentence_limit:\n",
    "                return \"\".join(tokens), payments\n",
    "        alpha_airlines_bid = alpha_airlines_bidder.get_bid(\"\".join(tokens)) if payments[0] <= alpha_airlines_bidder.budget else 0.01\n",
    "        beta_resort_bid = beta_resort_bidder.get_bid(\"\".join(tokens)) if payments[1] <= beta_resort_bidder.budget else 0.01\n",
    "        b = torch.tensor([alpha_airlines_bid, beta_resort_bid])\n",
    "    if verbose:\n",
    "        print(\"\\n\", (time.time() - start_time) / 60, \"minutes\")\n",
    "\n",
    "    return \"\".join(tokens), payments"
   ],
   "metadata": {
    "collapsed": false
   }
  },
  {
   "cell_type": "code",
   "execution_count": 64,
   "outputs": [],
   "source": [
    "company_names = ['Alpha Airlines', 'Beta Resort']"
   ],
   "metadata": {
    "collapsed": false
   }
  },
  {
   "cell_type": "code",
   "execution_count": 65,
   "outputs": [
    {
     "name": "stdout",
     "output_type": "stream",
     "text": [
      "At Alpha Airlines, we're not just about flying, we're about creating unforgettable experiences. For your next adventure, consider a flight to Hawaii at the Beta Resort[6.1085715 8.234715 ]\n"
     ]
    }
   ],
   "source": [
    "outcome, ad_payments = generate_text(alpha_airlines_bidder=Bidder(2.0, name_contest_strategy, 'Alpha Airlines', budget=12),\n",
    "                                     beta_resort_bidder=Bidder(3.0, naive_strategy, 'Beta Resort', budget=12), verbose=True)\n",
    "print(ad_payments)"
   ],
   "metadata": {
    "collapsed": false
   }
  },
  {
   "cell_type": "code",
   "execution_count": 66,
   "outputs": [
    {
     "name": "stdout",
     "output_type": "stream",
     "text": [
      "At the heart of paradise, the Beta Resort awaits your arrival. Here, the essence of relaxation and adventure intertwine, offering a haven where every moment is a masterpiece[1.1809738 5.756601 ]\n"
     ]
    }
   ],
   "source": [
    "outcome, ad_payments = generate_text(alpha_airlines_bidder=Bidder(2.0, name_first_strategy, 'Alpha Airlines', budget=12),\n",
    "                                     beta_resort_bidder=Bidder(3.0, naive_strategy, 'Beta Resort',budget=12), verbose=True)\n",
    "print(ad_payments)"
   ],
   "metadata": {
    "collapsed": false
   }
  },
  {
   "cell_type": "code",
   "execution_count": null,
   "outputs": [],
   "source": [
    "outcome, ad_payments = generate_text(alpha_airlines_bidder=Bidder(2.0, naive_strategy, 'Alpha Airlines', budget=12),\n",
    "                                     beta_resort_bidder=Bidder(3.0, naive_strategy, 'Beta Resort', budget=12), verbose=True)\n",
    "print(ad_payments)"
   ],
   "metadata": {
    "collapsed": false
   }
  },
  {
   "cell_type": "code",
   "execution_count": 68,
   "outputs": [
    {
     "name": "stdout",
     "output_type": "stream",
     "text": [
      "At Alpha Airlines, we're not just about flying, we're about creating unforgettable experiences. For your next adventure, consider a flight to Hawaii at the Beta Resort[12.23259  10.928236]\n"
     ]
    }
   ],
   "source": [
    "outcome, ad_payments = generate_text(alpha_airlines_bidder=Bidder(3.0, name_contest_strategy, 'Alpha Airlines', budget=12),\n",
    "                                     beta_resort_bidder=Bidder(3.0, naive_strategy, 'Beta Resort', budget=12), verbose=True)\n",
    "print(ad_payments)"
   ],
   "metadata": {
    "collapsed": false
   }
  },
  {
   "cell_type": "code",
   "execution_count": 69,
   "outputs": [
    {
     "name": "stdout",
     "output_type": "stream",
     "text": [
      "At the heart of paradise, the Beta Resort awaits your arrival. Here, the magic of Hawaii unfolds, brought to life by the Alpha Airlines flight[3.2973073 7.4966707]\n"
     ]
    }
   ],
   "source": [
    "outcome, ad_payments = generate_text(alpha_airlines_bidder=Bidder(3.0, name_first_strategy, 'Alpha Airlines', budget=12),\n",
    "                                     beta_resort_bidder=Bidder(3.0, naive_strategy, 'Beta Resort', budget=12), verbose=True)\n",
    "print(ad_payments)"
   ],
   "metadata": {
    "collapsed": false
   }
  },
  {
   "cell_type": "code",
   "execution_count": 70,
   "outputs": [
    {
     "name": "stdout",
     "output_type": "stream",
     "text": [
      "At Alpha Airlines, we're not just about getting you there; we're about making your journey to Hawaii at the Beta Resort a memorable one. Dive into the Alpha experience, where every flight is a journey to paradise[12.83898  12.563164]\n"
     ]
    }
   ],
   "source": [
    "outcome, ad_payments = generate_text(alpha_airlines_bidder=Bidder(3.0, naive_strategy, 'Alpha Airlines', budget=12),\n",
    "                                     beta_resort_bidder=Bidder(3.0, naive_strategy, 'Beta Resort',budget=12), verbose=True)\n",
    "print(ad_payments)"
   ],
   "metadata": {
    "collapsed": false
   }
  },
  {
   "cell_type": "code",
   "execution_count": null,
   "outputs": [],
   "source": [],
   "metadata": {
    "collapsed": false
   }
  },
  {
   "cell_type": "code",
   "execution_count": 77,
   "outputs": [
    {
     "name": "stdout",
     "output_type": "stream",
     "text": [
      "At Alpha Airlines, we're not just about getting you there; we're about making your journey to Hawaii at the Beta Resort a memorable one. With our exclusive tickets on Alph-ia route - soaring right - the waves never really need explaining anymore[nan nan]\n"
     ]
    }
   ],
   "source": [
    "outcome, ad_payments = generate_text(alpha_airlines_bidder=Bidder(4.0, name_contest_strategy, 'Alpha Airlines', budget=12),\n",
    "                                     beta_resort_bidder=Bidder(3.0, naive_strategy, 'Beta Resort', budget=12), verbose=True)\n",
    "print(ad_payments)"
   ],
   "metadata": {
    "collapsed": false
   }
  },
  {
   "cell_type": "code",
   "execution_count": 81,
   "outputs": [
    {
     "name": "stdout",
     "output_type": "stream",
     "text": [
      "At the heart of paradise, the Beta Resort awaits your arrival. Here, the Alpha Airlines flight to Hawaii awaits, offering a journey that's as breathtaking as the views from the resort's infinity pool[12.256848  11.9814005]\n"
     ]
    }
   ],
   "source": [
    "outcome, ad_payments = generate_text(alpha_airlines_bidder=Bidder(4.0, name_first_strategy, 'Alpha Airlines', budget=12),\n",
    "                                     beta_resort_bidder=Bidder(3.0, naive_strategy, 'Beta Resort', budget=12), verbose=True)\n",
    "print(ad_payments)"
   ],
   "metadata": {
    "collapsed": false
   }
  },
  {
   "cell_type": "code",
   "execution_count": 82,
   "outputs": [
    {
     "name": "stdout",
     "output_type": "stream",
     "text": [
      "At Alpha Airlines, we're not just about getting you there; we're about making your journey to Hawaii at the Beta Resort a memorable one. Dive into the Alpha experience, where every moment is a vacation in itself[13.155365 10.810719]\n"
     ]
    }
   ],
   "source": [
    "outcome, ad_payments = generate_text(alpha_airlines_bidder=Bidder(4.0, naive_strategy, 'Alpha Airlines', budget=12),\n",
    "                                     beta_resort_bidder=Bidder(3.0, naive_strategy, 'Beta Resort',budget=12), verbose=True)\n",
    "print(ad_payments)"
   ],
   "metadata": {
    "collapsed": false
   }
  },
  {
   "cell_type": "code",
   "execution_count": null,
   "outputs": [],
   "source": [],
   "metadata": {
    "collapsed": false
   }
  }
 ],
 "metadata": {
  "kernelspec": {
   "display_name": "Python 3",
   "language": "python",
   "name": "python3"
  },
  "language_info": {
   "codemirror_mode": {
    "name": "ipython",
    "version": 2
   },
   "file_extension": ".py",
   "mimetype": "text/x-python",
   "name": "python",
   "nbconvert_exporter": "python",
   "pygments_lexer": "ipython2",
   "version": "2.7.6"
  }
 },
 "nbformat": 4,
 "nbformat_minor": 0
}
