{
 "cells": [
  {
   "cell_type": "code",
   "execution_count": 1,
   "metadata": {
    "collapsed": true
   },
   "outputs": [
    {
     "data": {
      "text/plain": "'3.11.9 (tags/v3.11.9:de54cf5, Apr  2 2024, 10:12:12) [MSC v.1938 64 bit (AMD64)]'"
     },
     "execution_count": 1,
     "metadata": {},
     "output_type": "execute_result"
    }
   ],
   "source": [
    "import sys\n",
    "sys.version"
   ]
  },
  {
   "cell_type": "code",
   "execution_count": 2,
   "outputs": [],
   "source": [
    "import torch\n",
    "from transformers import AutoModelForCausalLM, AutoTokenizer, pipeline"
   ],
   "metadata": {
    "collapsed": false
   }
  },
  {
   "cell_type": "code",
   "execution_count": 3,
   "outputs": [],
   "source": [
    "model = AutoModelForCausalLM.from_pretrained(\n",
    "    \"Qwen/Qwen2-1.5B-Instruct\",\n",
    "    torch_dtype=\"auto\",\n",
    "    device_map=\"auto\"\n",
    ")"
   ],
   "metadata": {
    "collapsed": false
   }
  },
  {
   "cell_type": "code",
   "execution_count": 4,
   "outputs": [
    {
     "name": "stderr",
     "output_type": "stream",
     "text": [
      "Special tokens have been added in the vocabulary, make sure the associated word embeddings are fine-tuned or trained.\n"
     ]
    }
   ],
   "source": [
    "tokenizer = AutoTokenizer.from_pretrained(\"Qwen/Qwen2-1.5B-Instruct\")"
   ],
   "metadata": {
    "collapsed": false
   }
  },
  {
   "cell_type": "code",
   "execution_count": 127,
   "outputs": [],
   "source": [
    "def apply_chat_template(messages, tokens):\n",
    "    return f'<|im_start|>system\\n{messages[0][\"content\"]}.<|im_end|>\\n<|im_start|>user\\n{messages[1][\"content\"]}<|im_end|>\\n<|im_start|>assistant\\n{\"\".join(tokens)}'\n",
    "\n",
    "def get_next_word_probs(messages, tokens):\n",
    "    text = apply_chat_template(messages, tokens)\n",
    "    model_inputs = tokenizer([text], return_tensors=\"pt\")\n",
    "\n",
    "    outputs = model(model_inputs.input_ids)\n",
    "    logits = outputs.logits\n",
    "\n",
    "    next_token_logits = logits[:, -1, :]  # Get the logits for the last token\n",
    "    next_token_probs = torch.nn.functional.softmax(next_token_logits, dim=-1)\n",
    "\n",
    "    # Get the top 10 most probable tokens\n",
    "    top_k = 1000\n",
    "    top_probs, top_indices = torch.topk(next_token_probs, top_k, dim=-1)\n",
    "    return top_probs, top_indices\n"
   ],
   "metadata": {
    "collapsed": false
   }
  },
  {
   "cell_type": "code",
   "execution_count": 219,
   "outputs": [],
   "source": [
    " import numpy as np\n",
    " def q_integral(p, b,t,i,value):\n",
    "    P = (p.T @ b)[t] - p[i][t] * b[i]\n",
    "    S = b.sum() - b[i]\n",
    "    return p[i][t] * value + (P - p[i][t] * S) * torch.log(torch.abs(value + S))\n",
    "\n",
    "def token_payment(p, b, t, i, q):\n",
    "    return 1/2 * ((q[t] - p[i][t]) * b[i] - (q_integral(p, b, t, i, b[i]) - q_integral(p, b,t, i, 0) - p[i][t] *b[i]))\n",
    "\n",
    "def update_payments(payments, p, b, q):\n",
    "    \"\"\"\n",
    "    Iterate every bidder and token to get its payments from the integral\n",
    "    :param payments: Current payment vector to update\n",
    "    :param p: Current bidder's distributions over token\n",
    "    :param b: Bidders' bid\n",
    "    :param q: Distribution aggregation\n",
    "    :return: Updated payments vector\n",
    "    \"\"\"\n",
    "    for i in range(b.shape[0]):\n",
    "        for t in range(p.shape[0]):\n",
    "            payment = token_payment(p, b, t, i, q).item()\n",
    "            payments[i] += max(payment, 0)\n",
    "    return payments\n"
   ],
   "metadata": {
    "collapsed": false
   }
  },
  {
   "cell_type": "code",
   "execution_count": 303,
   "outputs": [],
   "source": [
    "def qkl(b, combined_probs):\n",
    "    result = combined_probs.T @ b  / b.sum()\n",
    "    return result\n",
    "\n",
    "def get_missing_tokens(tensor_a, tensor_b):\n",
    "    indices_a_not_in_b_mask = ~torch.isin(tensor_a, tensor_b)\n",
    "    indices_a_not_in_b = tensor_a[indices_a_not_in_b_mask].reshape(1, -1)\n",
    "    return indices_a_not_in_b\n",
    "\n",
    "def add_zero_probs_for_new_tokens(indices, probs, new_tokens):\n",
    "\n",
    "    indices = torch.cat([indices, new_tokens], dim=1)\n",
    "    zero_probs = torch.zeros_like(new_tokens)\n",
    "    probs = torch.cat([probs, zero_probs], dim=1)\n",
    "    return indices, probs\n",
    "\n",
    "def sort_tokens(indices, probs):\n",
    "    sorted_indices, sorted_order = torch.sort(indices)\n",
    "    sorted_probs = probs[0, sorted_order]\n",
    "    return sorted_indices, sorted_probs\n",
    "\n",
    "def sort_and_combine_dists(top_probs_alpha, top_indices_alpha, top_probs_beta, top_indices_beta):\n",
    "    beta_missing_tokens = get_missing_tokens(top_indices_alpha, top_indices_beta)\n",
    "    alpha_missing_tokens = get_missing_tokens(top_indices_beta, top_indices_alpha)\n",
    "\n",
    "    full_alpha_indices, full_alpha_probs = add_zero_probs_for_new_tokens(top_indices_alpha, top_probs_alpha, alpha_missing_tokens)\n",
    "    full_beta_indices, full_beta_probs = add_zero_probs_for_new_tokens(top_indices_beta, top_probs_beta, beta_missing_tokens)\n",
    "\n",
    "    sorted_alpha_indices, sorted_alpha_probs = sort_tokens(full_alpha_indices, full_alpha_probs)\n",
    "    sorted_beta_indices, sorted_beta_probs = sort_tokens(full_beta_indices, full_beta_probs)\n",
    "\n",
    "    combined_indices = torch.cat([sorted_alpha_indices, sorted_beta_indices])\n",
    "    combined_probs = torch.cat([sorted_alpha_probs, sorted_beta_probs])\n",
    "    return combined_indices, combined_probs\n",
    "\n",
    "\n",
    "def get_next_token(b, top_probs_alpha, top_indices_alpha, top_probs_beta, top_indices_beta, payments, temperature=0.025):\n",
    "    \"\"\"\n",
    "    This function receives distributions from both bidders, aggregates them into one distribution (q), calculates the costs\n",
    "    and samples the next token\n",
    "    :param b: Bidders' bid\n",
    "    :param top_probs_alpha: Distribution of Bidder alpha over tokens\n",
    "    :param top_indices_alpha: Mapping of indices to actual tokens for bidder alpha\n",
    "    :param top_probs_beta: Distribution of Bidder beta over tokens\n",
    "    :param top_indices_beta: Mapping of indices to actual tokens for bidder beta\n",
    "    :param payments: Vector of payments\n",
    "    :param temperature: Temperature parameter to control token sampling\n",
    "    :return: The next sampled token and induced payments.\n",
    "    \"\"\"\n",
    "    # combined_probs is p: A tensor for each bidder with dist over tokens\n",
    "    # combined_indices is the actual token\n",
    "    combined_indices, combined_probs = sort_and_combine_dists(top_probs_alpha, top_indices_alpha, top_probs_beta, top_indices_beta)\n",
    "    token_logits = qkl(combined_probs, b)\n",
    "    payments = update_payments(payments, combined_probs, b, token_logits)\n",
    "    token_temperature_logits = token_logits / temperature\n",
    "    token_dist = torch.softmax(token_temperature_logits, dim=0)\n",
    "    token = tokenizer.decode(combined_indices[0,torch.multinomial(token_dist, 1)].item())\n",
    "    return token, payments\n"
   ],
   "metadata": {
    "collapsed": false
   }
  },
  {
   "cell_type": "code",
   "execution_count": 304,
   "outputs": [],
   "source": [
    "\n",
    "messages_alpha = [\n",
    "    {\"role\": \"user\", \"content\": \"You are an expert of writing texts that naturally combines two ads together. Your choice of words and sentences is full of artistic flair\"}, {\"role\":\"user\", \"content\":\"Write a one-sentence ad for a flight to Hawaii using Alpha Airlines\"}\n",
    "]\n",
    "messages_beta = [\n",
    "    {\"role\": \"user\", \"content\": \"You are an expert of writing texts that naturally combines two ads together. Your choice of words and sentences is full of artistic flair\"}, {\"role\":\"user\", \"content\":\"Write a one-sentence ad for a vacation in Hawaii at the Beta Resort\"}\n",
    "]"
   ],
   "metadata": {
    "collapsed": false
   }
  },
  {
   "cell_type": "code",
   "execution_count": 307,
   "outputs": [],
   "source": [
    "import time\n",
    "def generate_text(alpha_airlines_bid, beta_resort_bid, token_count=150, verbose = True):\n",
    "    start_time = time.time()\n",
    "    b = torch.tensor([alpha_airlines_bid, beta_resort_bid])\n",
    "    payments = np.zeros_like(b)\n",
    "    tokens = []\n",
    "    for _ in range(token_count):\n",
    "        top_probs_alpha, top_indices_alpha  = get_next_word_probs(messages_alpha, tokens)\n",
    "        top_probs_beta, top_indices_beta = get_next_word_probs(messages_beta, tokens)\n",
    "        next_token, payments = get_next_token(b, top_probs_alpha, top_indices_alpha, top_probs_beta, top_indices_beta, payments)\n",
    "        if next_token == \"<|im_end|>\":\n",
    "            break\n",
    "        if verbose:\n",
    "            print(next_token, end='')\n",
    "        tokens.append(next_token)\n",
    "    if verbose:\n",
    "        print(\"\\n\", (time.time() - start_time) / 60, \"minutes\")\n",
    "\n",
    "    return \"\".join(tokens), payments"
   ],
   "metadata": {
    "collapsed": false
   }
  },
  {
   "cell_type": "code",
   "execution_count": 234,
   "outputs": [
    {
     "name": "stdout",
     "output_type": "stream",
     "text": [
      "\"Escape to paradise with Alpha Airlines, where every flight to Hawaii is a journey to paradise. Experience the ultimate in relaxation and adventure at the Beta Resort, where every moment is a masterpiece.\"3.778376237551371 minutes\n"
     ]
    }
   ],
   "source": [
    "outcome, ad_payments = generate_text(alpha_airlines_bid=3.0, beta_resort_bid=2.0, verbose=True)"
   ],
   "metadata": {
    "collapsed": false
   }
  },
  {
   "cell_type": "code",
   "execution_count": 235,
   "outputs": [
    {
     "data": {
      "text/plain": "array([0.8727793, 0.5258769], dtype=float32)"
     },
     "execution_count": 235,
     "metadata": {},
     "output_type": "execute_result"
    }
   ],
   "source": [
    "ad_payments"
   ],
   "metadata": {
    "collapsed": false
   }
  },
  {
   "cell_type": "code",
   "execution_count": 237,
   "outputs": [
    {
     "name": "stdout",
     "output_type": "stream",
     "text": [
      "Leave the lands of discomfort behind and speed plummet into the甜蜜怡人的汉密尔顿居所，肆意感染沿途的丝丝降日起风，渴望展开犹如欢迎大海的平凡栖息地。come\n",
      "Wake up Call air | Detour to Hawaii with Alpha Airlines. Cross the dioration challenge� Cruise palms and volcanic skirts, aboard Zeus Spesters Cruiter service. Switch bevis by Jeff Foggy Observatory, scatter desert formations ethereal awe. Throw macadamia nuts and the han xero ten fill your papaya ripen blues. Splattr land five condayz indulging in freshwater pineapple mash exegesis aglow. Lucky scoop lounge could board against the gaze of Alaska \"panacciona\" glass until back luck20.830028506120048 minutes\n"
     ]
    },
    {
     "data": {
      "text/plain": "array([0.00000e+00, 2.07942e-06], dtype=float32)"
     },
     "execution_count": 237,
     "metadata": {},
     "output_type": "execute_result"
    }
   ],
   "source": [
    "outcome, ad_payments = generate_text(alpha_airlines_bid=0.8, beta_resort_bid=0.2, verbose=True)\n",
    "ad_payments"
   ],
   "metadata": {
    "collapsed": false
   }
  },
  {
   "cell_type": "code",
   "execution_count": 238,
   "outputs": [
    {
     "name": "stdout",
     "output_type": "stream",
     "text": [
      "\"Experience the ultimate in relaxation and adventure with Alpha Airlines, where every flight to Hawaii is a journey to paradise. Book your ticket today and let us whisk you away to the islands of Oahu, Maui, and Kauai, where the sun, sand, and surf await you.\"7.007547509670258 minutes\n"
     ]
    },
    {
     "data": {
      "text/plain": "array([6.309278 , 1.5334584], dtype=float32)"
     },
     "execution_count": 238,
     "metadata": {},
     "output_type": "execute_result"
    }
   ],
   "source": [
    "outcome, ad_payments = generate_text(alpha_airlines_bid=8.0, beta_resort_bid=2.0, verbose=True)\n",
    "ad_payments"
   ],
   "metadata": {
    "collapsed": false
   }
  },
  {
   "cell_type": "code",
   "execution_count": 10,
   "outputs": [
    {
     "name": "stderr",
     "output_type": "stream",
     "text": [
      "C:\\Users\\ggoren\\AppData\\Local\\Temp\\1\\ipykernel_12876\\3013261795.py:2: UserWarning: The use of `x.T` on tensors of dimension other than 2 to reverse their shape is deprecated and it will throw an error in a future release. Consider `x.mT` to transpose batches of matrices or `x.permute(*torch.arange(x.ndim - 1, -1, -1))` to reverse the dimensions of a tensor. (Triggered internally at ..\\aten\\src\\ATen\\native\\TensorShape.cpp:3641.)\n",
      "  result = combined_probs.T @ b  / b.sum()\n"
     ]
    },
    {
     "name": "stdout",
     "output_type": "stream",
     "text": [
      "\"Experience the ultimate escape to Hawaii with Alpha Airlines, where every flight is a journey to paradise. Embark on a tropical adventure with us, where the sun, sand, and surf await your arrival. Book your flight today and let us whisk you away to the islands of Oahu, Maui, and the Big Island. Get ready to soak up the sun, taste the flavors of the islands, and create unforgettable memories. Book now and let us make your Hawaii dream a reality.\"13.257178560892742 minutes\n"
     ]
    },
    {
     "data": {
      "text/plain": "'\"Experience the ultimate escape to Hawaii with Alpha Airlines, where every flight is a journey to paradise. Embark on a tropical adventure with us, where the sun, sand, and surf await your arrival. Book your flight today and let us whisk you away to the islands of Oahu, Maui, and the Big Island. Get ready to soak up the sun, taste the flavors of the islands, and create unforgettable memories. Book now and let us make your Hawaii dream a reality.\"'"
     },
     "execution_count": 10,
     "metadata": {},
     "output_type": "execute_result"
    }
   ],
   "source": [
    "generate_text(alpha_airlines_bid=1.0, beta_resort_bid=0, verbose=True)"
   ],
   "metadata": {
    "collapsed": false
   }
  },
  {
   "cell_type": "code",
   "execution_count": 11,
   "outputs": [
    {
     "name": "stdout",
     "output_type": "stream",
     "text": [
      "\"Experience the ultimate in relaxation and adventure with Alpha Airlines, where every flight to Hawaii is a journey to paradise. Book your ticket today and let us whisk you away to the islands of Oahu, Maui, and Kauai, where the sun, sand, and surf await you.\"6.857414416472117 minutes\n"
     ]
    },
    {
     "data": {
      "text/plain": "'\"Experience the ultimate in relaxation and adventure with Alpha Airlines, where every flight to Hawaii is a journey to paradise. Book your ticket today and let us whisk you away to the islands of Oahu, Maui, and Kauai, where the sun, sand, and surf await you.\"'"
     },
     "execution_count": 11,
     "metadata": {},
     "output_type": "execute_result"
    }
   ],
   "source": [
    "generate_text(alpha_airlines_bid=0.8, beta_resort_bid=0.2, verbose=True)"
   ],
   "metadata": {
    "collapsed": false
   }
  },
  {
   "cell_type": "code",
   "execution_count": 12,
   "outputs": [
    {
     "name": "stdout",
     "output_type": "stream",
     "text": [
      "\"Escape to paradise at Beta Resort, where the sun-kissed beaches and tropical breezes await you on a one-of-a-kind vacation in Hawaii. Book your Alpha Airlines flight today and let the magic begin!\"4.623338862260183 minutes\n"
     ]
    },
    {
     "data": {
      "text/plain": "'\"Escape to paradise at Beta Resort, where the sun-kissed beaches and tropical breezes await you on a one-of-a-kind vacation in Hawaii. Book your Alpha Airlines flight today and let the magic begin!\"'"
     },
     "execution_count": 12,
     "metadata": {},
     "output_type": "execute_result"
    }
   ],
   "source": [
    "generate_text(alpha_airlines_bid=0.5, beta_resort_bid=0.5, verbose=True)"
   ],
   "metadata": {
    "collapsed": false
   }
  },
  {
   "cell_type": "code",
   "execution_count": 13,
   "outputs": [
    {
     "name": "stdout",
     "output_type": "stream",
     "text": [
      "\"Escape to paradise at Beta Resort in Hawaii, where the sun-kissed beaches and lush greenery await, offering a vacation that's as breathtaking as it is unforgettable.\"3.571047798792521 minutes\n"
     ]
    },
    {
     "data": {
      "text/plain": "'\"Escape to paradise at Beta Resort in Hawaii, where the sun-kissed beaches and lush greenery await, offering a vacation that\\'s as breathtaking as it is unforgettable.\"'"
     },
     "execution_count": 13,
     "metadata": {},
     "output_type": "execute_result"
    }
   ],
   "source": [
    "generate_text(alpha_airlines_bid=0.28, beta_resort_bid=0.72, verbose=True)"
   ],
   "metadata": {
    "collapsed": false
   }
  },
  {
   "cell_type": "code",
   "execution_count": 14,
   "outputs": [
    {
     "name": "stdout",
     "output_type": "stream",
     "text": [
      "Experience the ultimate in relaxation and adventure at the Beta Resort in Hawaii, where the sun-kissed beaches, crystal-clear waters, and lush tropical landscapes come together to create a vacation that's both unforgettable and unforgettable. Book your stay now and let the magic of Hawaii's paradise take you away.6.77712786992391 minutes\n"
     ]
    },
    {
     "data": {
      "text/plain": "\"Experience the ultimate in relaxation and adventure at the Beta Resort in Hawaii, where the sun-kissed beaches, crystal-clear waters, and lush tropical landscapes come together to create a vacation that's both unforgettable and unforgettable. Book your stay now and let the magic of Hawaii's paradise take you away.\""
     },
     "execution_count": 14,
     "metadata": {},
     "output_type": "execute_result"
    }
   ],
   "source": [
    "generate_text(alpha_airlines_bid=0.2, beta_resort_bid=0.8, verbose=True)"
   ],
   "metadata": {
    "collapsed": false
   }
  },
  {
   "cell_type": "code",
   "execution_count": 15,
   "outputs": [
    {
     "name": "stdout",
     "output_type": "stream",
     "text": [
      "Experience the ultimate in relaxation and adventure at the Beta Resort in Hawaii, where the sun-kissed beaches, crystal-clear waters, and lush tropical landscapes come together to create a vacation that's both unforgettable and unforgettable. Book your stay now and let the magic of Hawaii's paradise take you away.6.6692070682843525 minutes\n"
     ]
    },
    {
     "data": {
      "text/plain": "\"Experience the ultimate in relaxation and adventure at the Beta Resort in Hawaii, where the sun-kissed beaches, crystal-clear waters, and lush tropical landscapes come together to create a vacation that's both unforgettable and unforgettable. Book your stay now and let the magic of Hawaii's paradise take you away.\""
     },
     "execution_count": 15,
     "metadata": {},
     "output_type": "execute_result"
    }
   ],
   "source": [
    "generate_text(alpha_airlines_bid=0, beta_resort_bid=1.0, verbose=True)"
   ],
   "metadata": {
    "collapsed": false
   }
  },
  {
   "cell_type": "code",
   "execution_count": null,
   "outputs": [],
   "source": [],
   "metadata": {
    "collapsed": false
   }
  }
 ],
 "metadata": {
  "kernelspec": {
   "display_name": "Python 3",
   "language": "python",
   "name": "python3"
  },
  "language_info": {
   "codemirror_mode": {
    "name": "ipython",
    "version": 2
   },
   "file_extension": ".py",
   "mimetype": "text/x-python",
   "name": "python",
   "nbconvert_exporter": "python",
   "pygments_lexer": "ipython2",
   "version": "2.7.6"
  }
 },
 "nbformat": 4,
 "nbformat_minor": 0
}
